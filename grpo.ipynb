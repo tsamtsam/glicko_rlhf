{
 "cells": [
  {
   "cell_type": "code",
   "execution_count": null,
   "id": "674bcd0d-29ab-4297-b36c-320038f78e72",
   "metadata": {},
   "outputs": [],
   "source": [
    "from unsloth import FastModel\n",
    "import torch\n",
    "from datasets import load_dataset\n",
    "import re\n",
    "from trl import GRPOConfig, GRPOTrainer\n",
    "from transformers import TextStreamer\n",
    "import torch\n",
    "from transformers import AutoTokenizer, AutoModelForCausalLM\n",
    "from rob_rew import RobertaRewardModel"
   ]
  },
  {
   "cell_type": "code",
   "execution_count": null,
   "id": "550dab47-5aee-43d9-84af-a9e9a442d803",
   "metadata": {},
   "outputs": [],
   "source": []
  },
  {
   "cell_type": "code",
   "execution_count": null,
   "id": "b7795906-c013-408b-89b5-edb667964d8a",
   "metadata": {},
   "outputs": [],
   "source": [
    "# 1. Load your reward model\n",
    "reward_model = RobertaRewardModel(\n",
    "    model_path=\"./roberta-reward-model\",\n",
    "    device=\"cuda\" if torch.cuda.is_available() else \"cpu\"\n",
    ")\n",
    "\n",
    "# 2. Prepare a dataset of prompts (questions)\n",
    "questions = [\n",
    "    \"What are the main causes of climate change?\",\n",
    "    \"How does the immune system work?\",\n",
    "    \"What are the principles of quantum computing?\",\n",
    "    \"Explain the process of photosynthesis.\",\n",
    "    \"What are the key features of machine learning algorithms?\"\n",
    "]\n",
    "\n",
    "# 3. Load the base LLM to be fine-tuned with GRPO\n",
    "model_name = \"gpt2\"  # or any other model you prefer\n",
    "model = AutoModelForCausalLM.from_pretrained(model_name)\n",
    "tokenizer = AutoTokenizer.from_pretrained(model_name)\n",
    "\n",
    "# Ensure we have a pad token\n",
    "if tokenizer.pad_token is None:\n",
    "    tokenizer.pad_token = tokenizer.eos_token\n",
    "\n",
    "# 4. Create a reward function wrapper\n",
    "reward_fn = GRPORewardFunction(\n",
    "    reward_model=reward_model,\n",
    "    reward_scaling=1.0,\n",
    "    normalize_rewards=True\n",
    ")\n",
    "\n",
    "# 5. Initialize the trainer\n",
    "trainer = CustomGRPOTrainer(\n",
    "    model=model,\n",
    "    tokenizer=tokenizer,\n",
    "    reward_fn=reward_fn,\n",
    "    lr=2e-5,\n",
    "    batch_size=4,\n",
    "    epochs=3\n",
    ")\n",
    "\n",
    "# 6. Train the model\n",
    "stats = trainer.train(questions, num_iterations=5)\n",
    "\n",
    "# 7. Save the fine-tuned model\n",
    "trainer.save_model(\"./grpo_finetuned_model\")\n",
    "\n",
    "return model, tokenizer, stats"
   ]
  }
 ],
 "metadata": {
  "kernelspec": {
   "display_name": "Python 3 (ipykernel)",
   "language": "python",
   "name": "python3"
  },
  "language_info": {
   "codemirror_mode": {
    "name": "ipython",
    "version": 3
   },
   "file_extension": ".py",
   "mimetype": "text/x-python",
   "name": "python",
   "nbconvert_exporter": "python",
   "pygments_lexer": "ipython3",
   "version": "3.10.16"
  }
 },
 "nbformat": 4,
 "nbformat_minor": 5
}
