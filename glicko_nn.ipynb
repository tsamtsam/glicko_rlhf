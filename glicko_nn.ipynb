{
 "cells": [
  {
   "cell_type": "code",
   "execution_count": 1,
   "id": "8041fe65-ac3a-4cf8-b962-176d60f49590",
   "metadata": {},
   "outputs": [],
   "source": [
    "import pickle\n",
    "import pandas as pd\n",
    "from sklearn.model_selection import train_test_split\n",
    "import matplotlib.pyplot as plt\n",
    "import seaborn as sns\n",
    "import torch\n",
    "import torch.nn as nn\n",
    "import numpy as np\n",
    "from torch.utils.data import Dataset, DataLoader\n",
    "from transformers import (\n",
    "    RobertaTokenizer, \n",
    "    RobertaModel, \n",
    "    RobertaPreTrainedModel,\n",
    "    RobertaConfig,\n",
    "    Trainer, \n",
    "    TrainingArguments\n",
    ")\n",
    "from datasets import Dataset as HFDataset\n",
    "import tqdm"
   ]
  },
  {
   "cell_type": "code",
   "execution_count": 2,
   "id": "a0316a73-3848-4565-8ca4-90683e6a58cc",
   "metadata": {},
   "outputs": [],
   "source": [
    "# Define a custom RoBERTa model for regression\n",
    "class RobertaForRegression(RobertaPreTrainedModel):\n",
    "    def __init__(self, config):\n",
    "        super().__init__(config)\n",
    "        # Load pre-trained RoBERTa\n",
    "        self.roberta = RobertaModel(config)\n",
    "        \n",
    "        # Add a custom regression head\n",
    "        self.regression_head = nn.Sequential(\n",
    "            nn.Dropout(config.hidden_dropout_prob),\n",
    "            nn.Linear(config.hidden_size, 1)\n",
    "        )\n",
    "        \n",
    "        # Initialize weights\n",
    "        self.init_weights()\n",
    "    \n",
    "    def forward(self, input_ids=None, attention_mask=None, token_type_ids=None, \n",
    "                position_ids=None, head_mask=None, inputs_embeds=None, labels=None, **kwargs):\n",
    "        \n",
    "        # Get the output from RoBERTa base model\n",
    "        outputs = self.roberta(\n",
    "            input_ids=input_ids,\n",
    "            attention_mask=attention_mask,\n",
    "            token_type_ids=token_type_ids,\n",
    "            position_ids=position_ids,\n",
    "            head_mask=head_mask,\n",
    "            inputs_embeds=inputs_embeds\n",
    "        )\n",
    "        \n",
    "        # Use the [CLS] token representation (first token)\n",
    "        sequence_output = outputs[0]\n",
    "        cls_output = sequence_output[:, 0, :]\n",
    "        \n",
    "        # Pass through regression head\n",
    "        logits = self.regression_head(cls_output).squeeze(-1)\n",
    "        \n",
    "        loss = None\n",
    "        if labels is not None:\n",
    "            loss_fct = nn.MSELoss()\n",
    "            loss = loss_fct(logits.view(-1), labels.view(-1))\n",
    "        \n",
    "        return {\"loss\": loss, \"logits\": logits} if loss is not None else {\"logits\": logits}"
   ]
  },
  {
   "cell_type": "code",
   "execution_count": 3,
   "id": "a2983ffb-bb51-47bd-9046-d8b96edb65d1",
   "metadata": {},
   "outputs": [],
   "source": [
    "def load_dictionary(filename):\n",
    "    \"\"\"\n",
    "    Load a dictionary from a file using pickle.\n",
    "    \n",
    "    Args:\n",
    "        filename (str): The name of the file to load from\n",
    "        \n",
    "    Returns:\n",
    "        dict: The loaded dictionary\n",
    "    \"\"\"\n",
    "    with open(filename, 'rb') as file:\n",
    "        dictionary = pickle.load(file)\n",
    "    print(f\"Dictionary loaded from {filename}\")\n",
    "    return dictionary"
   ]
  },
  {
   "cell_type": "code",
   "execution_count": 4,
   "id": "ce9d92af-6082-4d8c-9e7a-d2ae3c789275",
   "metadata": {},
   "outputs": [],
   "source": [
    "df = pd.read_csv('author_ratings_normalized.csv', lineterminator='\\n')"
   ]
  },
  {
   "cell_type": "code",
   "execution_count": 5,
   "id": "94d2bfc1-e66d-42ce-872b-5f29086af97b",
   "metadata": {},
   "outputs": [],
   "source": [
    "# Create pessimistic target \n",
    "a = .05\n",
    "b = .05\n",
    "df['reward'] = df['rating_norm'] - a*df['rd_norm'] - b*df['volatility_norm']"
   ]
  },
  {
   "cell_type": "code",
   "execution_count": 6,
   "id": "851bc6f1-f511-47c2-9d40-f9bcc114c8f2",
   "metadata": {},
   "outputs": [
    {
     "name": "stdout",
     "output_type": "stream",
     "text": [
      "Reward statistics:\n",
      "count    246286.000000\n",
      "mean          0.456940\n",
      "std           0.242306\n",
      "min          -0.039580\n",
      "25%           0.283523\n",
      "50%           0.456561\n",
      "75%           0.636640\n",
      "max           0.963868\n",
      "Name: reward, dtype: float64\n"
     ]
    },
    {
     "data": {
      "image/png": "[encoded data removed]",
      "text/plain": [
       "<Figure size 1000x600 with 1 Axes>"
      ]
     },
     "metadata": {},
     "output_type": "display_data"
    }
   ],
   "source": [
    "# Ensure column names match expected format\n",
    "if \"question\" not in df.columns and \"questions\" in df.columns:\n",
    "    df = df.rename(columns={\"questions\": \"question\"})\n",
    "if \"answer\" not in df.columns and \"answers\" in df.columns:\n",
    "    df = df.rename(columns={\"answers\": \"answer\"})\n",
    "if \"reward\" not in df.columns and \"rewards\" in df.columns:\n",
    "    df = df.rename(columns={\"rewards\": \"reward\"})\n",
    "\n",
    "# Display first few rows\n",
    "df.head()\n",
    "\n",
    "# Basic statistics of the rewards\n",
    "print(f\"Reward statistics:\\n{df['reward'].describe()}\")\n",
    "\n",
    "# Plot reward distribution\n",
    "plt.figure(figsize=(10, 6))\n",
    "plt.hist(df['reward'], bins=20)\n",
    "plt.title('Distribution of Rewards')\n",
    "plt.xlabel('Reward Value')\n",
    "plt.ylabel('Frequency')\n",
    "plt.show()"
   ]
  },
  {
   "cell_type": "markdown",
   "id": "d7d6c74f-40fc-4bf3-a98d-9bcb4b3fdf33",
   "metadata": {},
   "source": [
    "4. Prepare Data for Training"
   ]
  },
  {
   "cell_type": "code",
   "execution_count": 26,
   "id": "47d89ea7-bfa0-4907-8303-8364437a2779",
   "metadata": {},
   "outputs": [
    {
     "name": "stdout",
     "output_type": "stream",
     "text": [
      "Training set size: 8000\n",
      "Validation set size: 2000\n"
     ]
    }
   ],
   "source": [
    "# Split data into train and validation sets\n",
    "data_lim = 10000\n",
    "train_df, eval_df = train_test_split(df[:data_lim], test_size=0.2, random_state=42)\n",
    "\n",
    "print(f\"Training set size: {len(train_df)}\")\n",
    "print(f\"Validation set size: {len(eval_df)}\")\n",
    "\n",
    "# Convert to HuggingFace datasets\n",
    "train_dataset = HFDataset.from_pandas(train_df)\n",
    "eval_dataset = HFDataset.from_pandas(eval_df)"
   ]
  },
  {
   "cell_type": "markdown",
   "id": "7b8e0ccb-e629-4053-ac02-4abf7f742d25",
   "metadata": {},
   "source": [
    "5. Prepare Tokenizer and Model"
   ]
  },
  {
   "cell_type": "code",
   "execution_count": 27,
   "id": "145b8bae-c331-4705-bc45-2597fb053c24",
   "metadata": {},
   "outputs": [
    {
     "name": "stderr",
     "output_type": "stream",
     "text": [
      "loading file vocab.json from cache at /home/tsam/.cache/huggingface/hub/models--roberta-base/snapshots/e2da8e2f811d1448a5b465c236feacd80ffbac7b/vocab.json\n",
      "loading file merges.txt from cache at /home/tsam/.cache/huggingface/hub/models--roberta-base/snapshots/e2da8e2f811d1448a5b465c236feacd80ffbac7b/merges.txt\n",
      "loading file added_tokens.json from cache at None\n",
      "loading file special_tokens_map.json from cache at None\n",
      "loading file tokenizer_config.json from cache at /home/tsam/.cache/huggingface/hub/models--roberta-base/snapshots/e2da8e2f811d1448a5b465c236feacd80ffbac7b/tokenizer_config.json\n",
      "loading file tokenizer.json from cache at /home/tsam/.cache/huggingface/hub/models--roberta-base/snapshots/e2da8e2f811d1448a5b465c236feacd80ffbac7b/tokenizer.json\n",
      "loading file chat_template.jinja from cache at None\n",
      "loading configuration file config.json from cache at /home/tsam/.cache/huggingface/hub/models--roberta-base/snapshots/e2da8e2f811d1448a5b465c236feacd80ffbac7b/config.json\n",
      "Model config RobertaConfig {\n",
      "  \"architectures\": [\n",
      "    \"RobertaForMaskedLM\"\n",
      "  ],\n",
      "  \"attention_probs_dropout_prob\": 0.1,\n",
      "  \"bos_token_id\": 0,\n",
      "  \"classifier_dropout\": null,\n",
      "  \"eos_token_id\": 2,\n",
      "  \"hidden_act\": \"gelu\",\n",
      "  \"hidden_dropout_prob\": 0.1,\n",
      "  \"hidden_size\": 768,\n",
      "  \"initializer_range\": 0.02,\n",
      "  \"intermediate_size\": 3072,\n",
      "  \"layer_norm_eps\": 1e-05,\n",
      "  \"max_position_embeddings\": 514,\n",
      "  \"model_type\": \"roberta\",\n",
      "  \"num_attention_heads\": 12,\n",
      "  \"num_hidden_layers\": 12,\n",
      "  \"pad_token_id\": 1,\n",
      "  \"position_embedding_type\": \"absolute\",\n",
      "  \"transformers_version\": \"4.50.0.dev0\",\n",
      "  \"type_vocab_size\": 1,\n",
      "  \"use_cache\": true,\n",
      "  \"vocab_size\": 50265\n",
      "}\n",
      "\n",
      "loading configuration file config.json from cache at /home/tsam/.cache/huggingface/hub/models--roberta-base/snapshots/e2da8e2f811d1448a5b465c236feacd80ffbac7b/config.json\n",
      "Model config RobertaConfig {\n",
      "  \"architectures\": [\n",
      "    \"RobertaForMaskedLM\"\n",
      "  ],\n",
      "  \"attention_probs_dropout_prob\": 0.1,\n",
      "  \"bos_token_id\": 0,\n",
      "  \"classifier_dropout\": null,\n",
      "  \"eos_token_id\": 2,\n",
      "  \"hidden_act\": \"gelu\",\n",
      "  \"hidden_dropout_prob\": 0.1,\n",
      "  \"hidden_size\": 768,\n",
      "  \"initializer_range\": 0.02,\n",
      "  \"intermediate_size\": 3072,\n",
      "  \"layer_norm_eps\": 1e-05,\n",
      "  \"max_position_embeddings\": 514,\n",
      "  \"model_type\": \"roberta\",\n",
      "  \"num_attention_heads\": 12,\n",
      "  \"num_hidden_layers\": 12,\n",
      "  \"pad_token_id\": 1,\n",
      "  \"position_embedding_type\": \"absolute\",\n",
      "  \"transformers_version\": \"4.50.0.dev0\",\n",
      "  \"type_vocab_size\": 1,\n",
      "  \"use_cache\": true,\n",
      "  \"vocab_size\": 50265\n",
      "}\n",
      "\n",
      "loading weights file model.safetensors from cache at /home/tsam/.cache/huggingface/hub/models--roberta-base/snapshots/e2da8e2f811d1448a5b465c236feacd80ffbac7b/model.safetensors\n",
      "Some weights of the model checkpoint at roberta-base were not used when initializing RobertaForRegression: ['lm_head.bias', 'lm_head.dense.bias', 'lm_head.dense.weight', 'lm_head.layer_norm.bias', 'lm_head.layer_norm.weight']\n",
      "- This IS expected if you are initializing RobertaForRegression from the checkpoint of a model trained on another task or with another architecture (e.g. initializing a BertForSequenceClassification model from a BertForPreTraining model).\n",
      "- This IS NOT expected if you are initializing RobertaForRegression from the checkpoint of a model that you expect to be exactly identical (initializing a BertForSequenceClassification model from a BertForSequenceClassification model).\n",
      "Some weights of RobertaForRegression were not initialized from the model checkpoint at roberta-base and are newly initialized: ['regression_head.1.bias', 'regression_head.1.weight', 'roberta.pooler.dense.bias', 'roberta.pooler.dense.weight']\n",
      "You should probably TRAIN this model on a down-stream task to be able to use it for predictions and inference.\n"
     ]
    }
   ],
   "source": [
    "# Load the pre-trained RoBERTa model\n",
    "model_name = \"roberta-base\"\n",
    "tokenizer = RobertaTokenizer.from_pretrained(model_name)\n",
    "\n",
    "# Initialize our custom model\n",
    "config = RobertaConfig.from_pretrained(model_name)\n",
    "model = RobertaForRegression.from_pretrained(model_name, config=config)\n",
    "\n",
    "# Determine device\n",
    "device = torch.device(\"cuda\" if torch.cuda.is_available() else \"cpu\")\n",
    "model = model.to(device)\n",
    "\n",
    "# Freeze all the parameters in the base RoBERTa model\n",
    "for param in model.roberta.parameters():\n",
    "    param.requires_grad = False\n",
    "\n",
    "# Only unfreeze the last transformer layer (optional)\n",
    "for param in model.roberta.encoder.layer[-1].parameters():\n",
    "    param.requires_grad = True\n",
    "    \n",
    "# Make sure the regression head parameters are trainable\n",
    "for param in model.regression_head.parameters():\n",
    "    param.requires_grad = True\n"
   ]
  },
  {
   "cell_type": "code",
   "execution_count": 28,
   "id": "19c1dc4f-e494-4343-b31d-b8e9b22dfdfa",
   "metadata": {},
   "outputs": [],
   "source": [
    "# Define tokenization function\n",
    "def tokenize_function(examples, max_length=512):\n",
    "    questions = examples[\"question\"]\n",
    "    answers = examples[\"answer\"]\n",
    "    \n",
    "    # Combine question and answer pairs\n",
    "    texts = [f\"Question: {q} Answer: {a}\" for q, a in zip(questions, answers)]\n",
    "    \n",
    "    # Tokenize the texts\n",
    "    tokenized = tokenizer(\n",
    "        texts,\n",
    "        padding=\"max_length\",\n",
    "        truncation=True,\n",
    "        max_length=max_length,\n",
    "        return_tensors=\"pt\"\n",
    "    )\n",
    "    \n",
    "    return tokenized\n"
   ]
  },
  {
   "cell_type": "code",
   "execution_count": 29,
   "id": "644009d7-d3bd-4487-bc88-ff455f55f142",
   "metadata": {},
   "outputs": [
    {
     "data": {
      "application/vnd.jupyter.widget-view+json": {
       "model_id": "979e1e8315df48b093dbf3d77c1ed44e",
       "version_major": 2,
       "version_minor": 0
      },
      "text/plain": [
       "Map:   0%|          | 0/8000 [00:00<?, ? examples/s]"
      ]
     },
     "metadata": {},
     "output_type": "display_data"
    },
    {
     "data": {
      "application/vnd.jupyter.widget-view+json": {
       "model_id": "7296d03065a64d11b36fcb59a4d51cdb",
       "version_major": 2,
       "version_minor": 0
      },
      "text/plain": [
       "Map:   0%|          | 0/8000 [00:00<?, ? examples/s]"
      ]
     },
     "metadata": {},
     "output_type": "display_data"
    },
    {
     "data": {
      "application/vnd.jupyter.widget-view+json": {
       "model_id": "284a1eca389f47fca9b576e7eed85bfa",
       "version_major": 2,
       "version_minor": 0
      },
      "text/plain": [
       "Map:   0%|          | 0/2000 [00:00<?, ? examples/s]"
      ]
     },
     "metadata": {},
     "output_type": "display_data"
    },
    {
     "data": {
      "application/vnd.jupyter.widget-view+json": {
       "model_id": "137bb0fd95f4492f86af85151a85d811",
       "version_major": 2,
       "version_minor": 0
      },
      "text/plain": [
       "Map:   0%|          | 0/2000 [00:00<?, ? examples/s]"
      ]
     },
     "metadata": {},
     "output_type": "display_data"
    }
   ],
   "source": [
    "# Create a new dataset with only the required columns\n",
    "def prepare_dataset(examples):\n",
    "    return {\n",
    "        'input_ids': examples['input_ids'],\n",
    "        'attention_mask': examples['attention_mask'],\n",
    "        'labels': examples['reward']\n",
    "    }\n",
    "\n",
    "train_dataset_clean = train_dataset.map(\n",
    "    tokenize_function,\n",
    "    batched=True\n",
    ").map(\n",
    "    prepare_dataset,\n",
    "    batched=True,\n",
    "    remove_columns=[col for col in train_dataset.column_names if col not in ['input_ids', 'attention_mask', 'labels']]\n",
    ")\n",
    "\n",
    "eval_dataset_clean = eval_dataset.map(\n",
    "    tokenize_function,\n",
    "    batched=True\n",
    ").map(\n",
    "    prepare_dataset,\n",
    "    batched=True,\n",
    "    remove_columns=[col for col in eval_dataset.column_names if col not in ['input_ids', 'attention_mask', 'labels']]\n",
    ")\n",
    "\n",
    "# Convert to torch tensors\n",
    "train_dataset_clean.set_format(type='torch', columns=['input_ids', 'attention_mask', 'labels'])\n",
    "eval_dataset_clean.set_format(type='torch', columns=['input_ids', 'attention_mask', 'labels'])"
   ]
  },
  {
   "cell_type": "code",
   "execution_count": 30,
   "id": "02970955-1faa-4162-ba3f-7e2141d492a3",
   "metadata": {},
   "outputs": [],
   "source": [
    "# Enable logging to see progress bar\n",
    "from transformers import logging\n",
    "logging.set_verbosity_info()"
   ]
  },
  {
   "cell_type": "markdown",
   "id": "5b5da429-b79f-4dad-b528-fc58290dc29b",
   "metadata": {},
   "source": [
    "6. Set up Training Arguments"
   ]
  },
  {
   "cell_type": "code",
   "execution_count": 31,
   "id": "74b9baa6-d955-48b3-b13f-0f4e683d82c1",
   "metadata": {},
   "outputs": [
    {
     "name": "stderr",
     "output_type": "stream",
     "text": [
      "/home/tsam/anaconda3/envs/unsloth_env/lib/python3.10/site-packages/transformers/training_args.py:1611: FutureWarning: `evaluation_strategy` is deprecated and will be removed in version 4.46 of 🤗 Transformers. Use `eval_strategy` instead\n",
      "  warnings.warn(\n",
      "PyTorch: setting up devices\n"
     ]
    }
   ],
   "source": [
    "# Update training arguments\n",
    "training_args = TrainingArguments(\n",
    "    output_dir=\"./results/roberta-reward-model\",\n",
    "    evaluation_strategy=\"epoch\",\n",
    "    save_strategy=\"epoch\",\n",
    "    learning_rate=2e-5,\n",
    "    per_device_train_batch_size=8,\n",
    "    per_device_eval_batch_size=8,\n",
    "    num_train_epochs=5,\n",
    "    weight_decay=0.01,\n",
    "    load_best_model_at_end=True,\n",
    "    # Remove metric_for_best_model completely\n",
    "    greater_is_better=False,\n",
    "    push_to_hub=False,\n",
    "    disable_tqdm=False,\n",
    "    report_to=\"none\",\n",
    "    logging_dir=\"./logs\",\n",
    "    logging_steps=10,\n",
    "    logging_first_step=True,\n",
    ")\n",
    "\n",
    "# Create a compute_metrics function for evaluation\n",
    "def compute_metrics(eval_pred):\n",
    "    predictions, labels = eval_pred\n",
    "    mse = ((predictions - labels) ** 2).mean().item()\n",
    "    return {\"mse\": mse}\n",
    "\n",
    "# Set up the trainer\n",
    "trainer = Trainer(\n",
    "    model=model,\n",
    "    args=training_args,\n",
    "    train_dataset=train_dataset_clean,\n",
    "    eval_dataset=eval_dataset_clean,\n",
    "    compute_metrics=compute_metrics,\n",
    ")"
   ]
  },
  {
   "cell_type": "markdown",
   "id": "60804ec4-8653-4356-a98f-6714ccaf4e53",
   "metadata": {},
   "source": [
    "7. Training the Model"
   ]
  },
  {
   "cell_type": "code",
   "execution_count": 32,
   "id": "dbee3983-09e2-4014-8ebc-652187c6fd22",
   "metadata": {},
   "outputs": [
    {
     "name": "stderr",
     "output_type": "stream",
     "text": [
      "***** Running training *****\n",
      "  Num examples = 8,000\n",
      "  Num Epochs = 1\n",
      "  Instantaneous batch size per device = 8\n",
      "  Total train batch size (w. parallel, distributed & accumulation) = 8\n",
      "  Gradient Accumulation steps = 1\n",
      "  Total optimization steps = 1,000\n",
      "  Number of trainable parameters = 7,088,641\n"
     ]
    },
    {
     "data": {
      "text/html": [
       "\n",
       "    <div>\n",
       "      \n",
       "      <progress value='1000' max='1000' style='width:300px; height:20px; vertical-align: middle;'></progress>\n",
       "      [1000/1000 03:32, Epoch 1/1]\n",
       "    </div>\n",
       "    <table border=\"1\" class=\"dataframe\">\n",
       "  <thead>\n",
       " <tr style=\"text-align: left;\">\n",
       "      <th>Epoch</th>\n",
       "      <th>Training Loss</th>\n",
       "      <th>Validation Loss</th>\n",
       "      <th>Mse</th>\n",
       "    </tr>\n",
       "  </thead>\n",
       "  <tbody>\n",
       "    <tr>\n",
       "      <td>1</td>\n",
       "      <td>0.008400</td>\n",
       "      <td>0.001854</td>\n",
       "      <td>0.001854</td>\n",
       "    </tr>\n",
       "  </tbody>\n",
       "</table><p>"
      ],
      "text/plain": [
       "<IPython.core.display.HTML object>"
      ]
     },
     "metadata": {},
     "output_type": "display_data"
    },
    {
     "name": "stderr",
     "output_type": "stream",
     "text": [
      "\n",
      "***** Running Evaluation *****\n",
      "  Num examples = 2000\n",
      "  Batch size = 8\n",
      "Saving model checkpoint to ./results/roberta-reward-model/checkpoint-1000\n",
      "Configuration saved in ./results/roberta-reward-model/checkpoint-1000/config.json\n",
      "Model weights saved in ./results/roberta-reward-model/checkpoint-1000/model.safetensors\n",
      "\n",
      "\n",
      "Training completed. Do not forget to share your model on huggingface.co/models =)\n",
      "\n",
      "\n",
      "Loading best model from ./results/roberta-reward-model/checkpoint-1000 (score: 0.0018537634750828147).\n"
     ]
    },
    {
     "data": {
      "text/plain": [
       "TrainOutput(global_step=1000, training_loss=0.020302618216723203, metrics={'train_runtime': 213.0705, 'train_samples_per_second': 37.546, 'train_steps_per_second': 4.693, 'total_flos': 2104869543936000.0, 'train_loss': 0.020302618216723203, 'epoch': 1.0})"
      ]
     },
     "execution_count": 32,
     "metadata": {},
     "output_type": "execute_result"
    }
   ],
   "source": [
    "# Start the training process\n",
    "trainer.train()"
   ]
  },
  {
   "cell_type": "code",
   "execution_count": 14,
   "id": "6317cecb-8890-4fd4-9784-f35456394dd3",
   "metadata": {},
   "outputs": [],
   "source": [
    "# Function to predict rewards for new question-answer pairs\n",
    "def predict_reward(question, answer, model, tokenizer):\n",
    "    # Combine question and answer\n",
    "    text = f\"Question: {question} Answer: {answer}\"\n",
    "    \n",
    "    # Tokenize\n",
    "    inputs = tokenizer(\n",
    "        text,\n",
    "        return_tensors=\"pt\",\n",
    "        padding=\"max_length\",\n",
    "        truncation=True,\n",
    "        max_length=512\n",
    "    )\n",
    "    \n",
    "    # Get prediction\n",
    "    with torch.no_grad():\n",
    "        outputs = model(**inputs)\n",
    "        # If using our custom model directly\n",
    "        if isinstance(outputs, tuple):\n",
    "            predicted_reward = outputs[1].item()\n",
    "        else:\n",
    "            predicted_reward = outputs.item()\n",
    "    \n",
    "    return predicted_reward"
   ]
  },
  {
   "cell_type": "markdown",
   "id": "b7cfe621-514f-4971-9ae6-f528e3ff842f",
   "metadata": {},
   "source": [
    "8. Save the Fine-tuned Model"
   ]
  },
  {
   "cell_type": "code",
   "execution_count": 15,
   "id": "4193521a-0dd7-4b0e-a254-e38dfe97fbad",
   "metadata": {},
   "outputs": [
    {
     "name": "stderr",
     "output_type": "stream",
     "text": [
      "Configuration saved in ./roberta-reward-model/config.json\n",
      "Model weights saved in ./roberta-reward-model/model.safetensors\n",
      "tokenizer config file saved in ./roberta-reward-model/tokenizer_config.json\n",
      "Special tokens file saved in ./roberta-reward-model/special_tokens_map.json\n"
     ]
    },
    {
     "name": "stdout",
     "output_type": "stream",
     "text": [
      "Model saved to ./roberta-reward-model\n"
     ]
    }
   ],
   "source": [
    "# Save the model and tokenizer\n",
    "model_save_path = \"./roberta-reward-model\"\n",
    "model.save_pretrained(model_save_path)\n",
    "tokenizer.save_pretrained(model_save_path)\n",
    "\n",
    "print(f\"Model saved to {model_save_path}\")"
   ]
  },
  {
   "cell_type": "markdown",
   "id": "06cb59d0-f0ba-4708-a7ee-1661b70c9af5",
   "metadata": {},
   "source": [
    "9. Evaluate the Model on Test Data"
   ]
  },
  {
   "cell_type": "code",
   "execution_count": 16,
   "id": "1c84b72f-35e6-4c92-bf1e-584269f63a06",
   "metadata": {},
   "outputs": [
    {
     "name": "stderr",
     "output_type": "stream",
     "text": [
      "\n",
      "***** Running Evaluation *****\n",
      "  Num examples = 2000\n",
      "  Batch size = 8\n"
     ]
    },
    {
     "data": {
      "text/html": [
       "\n",
       "    <div>\n",
       "      \n",
       "      <progress value='250' max='250' style='width:300px; height:20px; vertical-align: middle;'></progress>\n",
       "      [250/250 00:34]\n",
       "    </div>\n",
       "    "
      ],
      "text/plain": [
       "<IPython.core.display.HTML object>"
      ]
     },
     "metadata": {},
     "output_type": "display_data"
    },
    {
     "name": "stdout",
     "output_type": "stream",
     "text": [
      "Evaluation results: {'eval_loss': 0.0010004908544942737, 'eval_mse': 0.0010004908544942737, 'eval_runtime': 34.4565, 'eval_samples_per_second': 58.044, 'eval_steps_per_second': 7.256, 'epoch': 2.0}\n"
     ]
    }
   ],
   "source": [
    "# Get evaluation metrics\n",
    "eval_results = trainer.evaluate()\n",
    "print(f\"Evaluation results: {eval_results}\")"
   ]
  },
  {
   "cell_type": "markdown",
   "id": "b874520d-7fea-4d48-9711-0593370c8363",
   "metadata": {},
   "source": [
    "10. Using the Model for Prediction"
   ]
  },
  {
   "cell_type": "code",
   "execution_count": 21,
   "id": "9b2748d0-71a7-40a1-b2ae-241683eb9517",
   "metadata": {},
   "outputs": [],
   "source": [
    "# Function to predict rewards for new question-answer pairs\n",
    "def predict_reward(question, answer, model, tokenizer, device=None):\n",
    "    # Determine the device\n",
    "    if device is None:\n",
    "        device = torch.device(\"cuda\" if torch.cuda.is_available() else \"cpu\")\n",
    "    \n",
    "    # Make sure model is on the correct device\n",
    "    model = model.to(device)\n",
    "    \n",
    "    # Combine question and answer\n",
    "    text = f\"Question: {question} Answer: {answer}\"\n",
    "    \n",
    "    # Tokenize\n",
    "    inputs = tokenizer(\n",
    "        text,\n",
    "        return_tensors=\"pt\",\n",
    "        padding=\"max_length\",\n",
    "        truncation=True,\n",
    "        max_length=512\n",
    "    )\n",
    "    \n",
    "    # Move inputs to the same device as the model\n",
    "    inputs = {k: v.to(device) for k, v in inputs.items()}\n",
    "    \n",
    "    # Get prediction\n",
    "    with torch.no_grad():\n",
    "        outputs = model(**inputs)\n",
    "        # Handle different output formats\n",
    "        if isinstance(outputs, dict):\n",
    "            predicted_reward = outputs[\"logits\"].cpu().item()\n",
    "        elif isinstance(outputs, tuple):\n",
    "            predicted_reward = outputs[1].cpu().item()\n",
    "        else:\n",
    "            predicted_reward = outputs.cpu().item()\n",
    "    \n",
    "    return predicted_reward"
   ]
  },
  {
   "cell_type": "code",
   "execution_count": 22,
   "id": "e57a92e7-a000-442c-93d7-f66ad7fc07b9",
   "metadata": {},
   "outputs": [],
   "source": [
    "def batch_predict_rewards(questions, answers, model, tokenizer, batch_size=8):\n",
    "    device = torch.device(\"cuda\" if torch.cuda.is_available() else \"cpu\")\n",
    "    model = model.to(device)\n",
    "    \n",
    "    predictions = []\n",
    "    \n",
    "    for i in range(0, len(questions), batch_size):\n",
    "        batch_questions = questions[i:i+batch_size]\n",
    "        batch_answers = answers[i:i+batch_size]\n",
    "        \n",
    "        batch_texts = [f\"Question: {q} Answer: {a}\" for q, a in zip(batch_questions, batch_answers)]\n",
    "        \n",
    "        inputs = tokenizer(\n",
    "            batch_texts,\n",
    "            padding=\"max_length\",\n",
    "            truncation=True,\n",
    "            max_length=512,\n",
    "            return_tensors=\"pt\"\n",
    "        )\n",
    "        \n",
    "        # Move inputs to the same device as model\n",
    "        inputs = {k: v.to(device) for k, v in inputs.items()}\n",
    "        \n",
    "        with torch.no_grad():\n",
    "            outputs = model(**inputs)\n",
    "            if isinstance(outputs, dict):\n",
    "                batch_preds = outputs[\"logits\"].cpu().numpy()\n",
    "            elif isinstance(outputs, tuple):\n",
    "                batch_preds = outputs[1].cpu().numpy()\n",
    "            else:\n",
    "                batch_preds = outputs.cpu().numpy()\n",
    "                \n",
    "        predictions.extend(batch_preds.flatten().tolist())\n",
    "    \n",
    "    return predictions"
   ]
  },
  {
   "cell_type": "code",
   "execution_count": 23,
   "id": "d3ed1ca5-ed82-4011-b6d6-15682b85fc3d",
   "metadata": {},
   "outputs": [
    {
     "name": "stdout",
     "output_type": "stream",
     "text": [
      "Question: What is the capital of France?\n",
      "Answer: Paris is the capital of France.\n",
      "Predicted reward: 0.8926\n",
      "\n",
      "Question: How does photosynthesis work?\n",
      "Answer: Photosynthesis is the process where plants convert sunlight, water and carbon dioxide into oxygen and glucose.\n",
      "Predicted reward: 0.9179\n",
      "\n",
      "Question: What is the meaning of life?\n",
      "Answer: The meaning of life is a philosophical question that has been debated for centuries.\n",
      "Predicted reward: 0.8924\n",
      "\n"
     ]
    }
   ],
   "source": [
    "# Try with some sample questions and answers\n",
    "sample_questions = [\n",
    "    \"What is the capital of France?\",\n",
    "    \"How does photosynthesis work?\",\n",
    "    \"What is the meaning of life?\"\n",
    "]\n",
    "\n",
    "sample_answers = [\n",
    "    \"Paris is the capital of France.\",\n",
    "    \"Photosynthesis is the process where plants convert sunlight, water and carbon dioxide into oxygen and glucose.\",\n",
    "    \"The meaning of life is a philosophical question that has been debated for centuries.\"\n",
    "]\n",
    "\n",
    "# Make predictions\n",
    "for q, a in zip(sample_questions, sample_answers):\n",
    "    reward = predict_reward(q, a, model, tokenizer)\n",
    "    print(f\"Question: {q}\")\n",
    "    print(f\"Answer: {a}\")\n",
    "    print(f\"Predicted reward: {reward:.4f}\\n\")"
   ]
  },
  {
   "cell_type": "markdown",
   "id": "80ab8425-6ceb-4e44-8574-562abc72d94f",
   "metadata": {},
   "source": [
    "11. Visualize Predicted vs. Actual Rewards"
   ]
  },
  {
   "cell_type": "code",
   "execution_count": 24,
   "id": "c57153cc-11cb-42e2-a744-ab945b01789c",
   "metadata": {},
   "outputs": [],
   "source": [
    "# Get predictions for the validation set\n",
    "def get_predictions(dataset, model, tokenizer):\n",
    "    predictions = []\n",
    "    actual = []\n",
    "    \n",
    "    for i in range(len(dataset)):\n",
    "        example = dataset[i]\n",
    "        question = example['question']\n",
    "        answer = example['answer']\n",
    "        reward = example['reward']\n",
    "        \n",
    "        pred_reward = predict_reward(question, answer, model, tokenizer)\n",
    "        predictions.append(pred_reward)\n",
    "        actual.append(reward)\n",
    "    \n",
    "    return predictions, actual\n",
    "\n",
    "# Sample a subset for visualization (to avoid long processing time)\n",
    "sample_size = min(100, len(eval_dataset))\n",
    "sampled_eval = eval_dataset.select(range(sample_size))\n",
    "\n",
    "# Get predictions\n",
    "predicted_rewards, actual_rewards = get_predictions(sampled_eval, model, tokenizer)"
   ]
  },
  {
   "cell_type": "code",
   "execution_count": 25,
   "id": "f15aad8d-f362-4e6e-841f-8481970dd432",
   "metadata": {},
   "outputs": [
    {
     "data": {
      "image/png": "[encoded data removed]",
      "text/plain": [
       "<Figure size 1000x600 with 1 Axes>"
      ]
     },
     "metadata": {},
     "output_type": "display_data"
    },
    {
     "name": "stdout",
     "output_type": "stream",
     "text": [
      "Mean Squared Error: 0.0011\n",
      "Mean Absolute Error: 0.0269\n",
      "R² Score: -0.1955\n"
     ]
    }
   ],
   "source": [
    "# Plot predicted vs. actual rewards\n",
    "plt.figure(figsize=(10, 6))\n",
    "plt.scatter(actual_rewards, predicted_rewards, alpha=0.7)\n",
    "plt.plot([min(actual_rewards), max(actual_rewards)], \n",
    "         [min(actual_rewards), max(actual_rewards)], 'r--')\n",
    "plt.xlabel('Actual Rewards')\n",
    "plt.ylabel('Predicted Rewards')\n",
    "plt.title('Predicted vs. Actual Rewards')\n",
    "plt.grid(True)\n",
    "plt.show()\n",
    "\n",
    "# Calculate metrics\n",
    "from sklearn.metrics import mean_squared_error, mean_absolute_error, r2_score\n",
    "\n",
    "mse = mean_squared_error(actual_rewards, predicted_rewards)\n",
    "mae = mean_absolute_error(actual_rewards, predicted_rewards)\n",
    "r2 = r2_score(actual_rewards, predicted_rewards)\n",
    "\n",
    "print(f\"Mean Squared Error: {mse:.4f}\")\n",
    "print(f\"Mean Absolute Error: {mae:.4f}\")\n",
    "print(f\"R² Score: {r2:.4f}\")"
   ]
  },
  {
   "cell_type": "code",
   "execution_count": null,
   "id": "4e1a61be-ef8e-46cc-aa1a-481e0b5881ef",
   "metadata": {},
   "outputs": [],
   "source": []
  },
  {
   "cell_type": "code",
   "execution_count": null,
   "id": "5d2d4086-e49b-49cc-809b-2f3c80f6676d",
   "metadata": {},
   "outputs": [],
   "source": []
  }
 ],
 "metadata": {
  "kernelspec": {
   "display_name": "Python 3 (ipykernel)",
   "language": "python",
   "name": "python3"
  },
  "language_info": {
   "codemirror_mode": {
    "name": "ipython",
    "version": 3
   },
   "file_extension": ".py",
   "mimetype": "text/x-python",
   "name": "python",
   "nbconvert_exporter": "python",
   "pygments_lexer": "ipython3",
   "version": "3.10.16"
  }
 },
 "nbformat": 4,
 "nbformat_minor": 5
}
