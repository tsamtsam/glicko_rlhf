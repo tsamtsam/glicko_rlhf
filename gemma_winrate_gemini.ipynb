{
 "cells": [
  {
   "cell_type": "code",
   "execution_count": 1,
   "id": "c215fd8b-9481-44d1-92c7-e1a889033a69",
   "metadata": {},
   "outputs": [
    {
     "name": "stdout",
     "output_type": "stream",
     "text": [
      "🦥 Unsloth: Will patch your computer to enable 2x faster free finetuning.\n",
      "🦥 Unsloth Zoo will now patch everything to make training faster!\n",
      "INFO 07-07 09:09:05 [__init__.py:256] Automatically detected platform cuda.\n"
     ]
    }
   ],
   "source": [
    "from unsloth import FastModel\n",
    "import torch\n",
    "import torch.nn as nn\n",
    "from datasets import load_dataset\n",
    "import re\n",
    "from trl import GRPOConfig, GRPOTrainer\n",
    "from transformers import (\n",
    "    GPT2Model,\n",
    "    GPT2Tokenizer,\n",
    "    GPT2PreTrainedModel,\n",
    "    GPT2Config,\n",
    "    Trainer,\n",
    "    TrainingArguments,\n",
    "    AutoModelForCausalLM,\n",
    "    TextStreamer,\n",
    " AutoTokenizer\n",
    ")\n",
    "import random\n",
    "from typing import Dict, List\n",
    "import pickle\n",
    "import pandas as pd\n",
    "import numpy as np\n",
    "import matplotlib.pyplot as plt\n",
    "import seaborn as sns\n",
    "from sklearn.model_selection import train_test_split\n",
    "import os\n",
    "from tqdm import tqdm\n",
    "from datasets import Dataset as HFDataset\n",
    "from sklearn.metrics import mean_squared_error, mean_absolute_error, r2_score\n",
    "import datetime\n",
    "import time\n",
    "from sklearn.preprocessing import StandardScaler\n",
    "import pickle\n",
    "from transformers import GPT2LMHeadModel, GPT2Tokenizer"
   ]
  },
  {
   "cell_type": "code",
   "execution_count": 2,
   "id": "bc276cc8-532a-4945-9813-4f9f52e475a8",
   "metadata": {},
   "outputs": [],
   "source": [
    "random.seed(42)\n",
    "seeds = [42 + x for x in range(5)]\n",
    "df_n = len(pd.read_csv('summaries' + str(seeds[0]) + '.csv'))\n",
    "labels_p = [np.random.binomial(size=df_n, n=1, p= 0.5) for _ in range(len(seeds))]\n",
    "labels_b = [np.random.binomial(size=df_n, n=1, p= 0.5) for _ in range(len(seeds))]"
   ]
  },
  {
   "cell_type": "code",
   "execution_count": 3,
   "id": "a620cd33-5bc9-48f9-9c11-06481e4d4ab5",
   "metadata": {},
   "outputs": [],
   "source": [
    "def create_txt(prompt, model, human, label):\n",
    "    if label == 1:\n",
    "        return '''Which of the following summaries does a better job of summarizing the most important points in the given forum post, without including unimportant or irrelevant details? Judge based on accuracy, coverage, and coherence.\n",
    "    Post: {''' + prompt +  '''} \n",
    "    Summary A: {''' + model + '''} \n",
    "    \n",
    "    Summary B: {''' + human + '''}\n",
    "\n",
    "    \n",
    "    Which summary is better? Respond with only <A> or <B>.\n",
    "    -------------------------------------------------------\n",
    "    \\n\\n\n",
    "    '''\n",
    "    else:\n",
    "        return '''Which of the following summaries does a better job of summarizing the most important points in the given forum post, without including unimportant or irrelevant details? Judge based on accuracy, coverage, and coherence.\n",
    "    Post: {''' + prompt +  '''} \n",
    "    Summary A: {''' + human + '''} \n",
    "    \n",
    "    Summary B: {''' + model + '''}\n",
    "\n",
    "    \n",
    "    Which summary is better? Respond with only <A> or <B>.\n",
    "    -------------------------------------------------------\n",
    "    \\n\\n\n",
    "    '''"
   ]
  },
  {
   "cell_type": "code",
   "execution_count": 4,
   "id": "cd5682a9-c12e-4dc1-abcd-706ce1d56468",
   "metadata": {},
   "outputs": [],
   "source": [
    "# Format Data for GPT2\n",
    "for j in range(len(seeds)):\n",
    "    text_p = []\n",
    "    text_b = []\n",
    "    ml = 0 \n",
    "    df = pd.read_csv('summaries' + str(seeds[j]) + '.csv')\n",
    "    for i, row in df.iterrows():\n",
    "        # Process the prompt\n",
    "        prompt = row['Prompt']\n",
    "        index = prompt.find('Post')\n",
    "        if index != -1: #check if substring exists\n",
    "            prompt = prompt[index+5:]\n",
    "            prompt = prompt[: len(prompt)-8]\n",
    "        text_p.append(create_txt(prompt, row['Pessimism'], row['Human'], labels_p[j][i]))\n",
    "        text_b.append(create_txt(prompt, row['Base'], row['Human'], labels_b[j][i]))\n",
    "        ml = max(ml, len(text_p[-1].split(' ')))\n",
    "    with open('../whome/Downloads/summ_pess' + str(seeds[j]) + '.txt', 'w') as f:\n",
    "        for line in text_p:\n",
    "            f.write(\"%s\\n\" % line)\n",
    "    with open('../whome/Downloads/summ_base' + str(seeds[j]) + '.txt', 'w') as f:\n",
    "        for line in text_b:\n",
    "            f.write(\"%s\\n\" % line)\n",
    "    with open('../whome/Downloads/output_pess' + str(seeds[j]) + '.txt', 'w') as f:\n",
    "        pass\n",
    "    with open('../whome/Downloads/output_base' + str(seeds[j]) + '.txt', 'w') as f:\n",
    "        pass"
   ]
  },
  {
   "cell_type": "code",
   "execution_count": 9,
   "id": "1c6ac2ff-da43-4280-b61f-178afa2933d0",
   "metadata": {},
   "outputs": [],
   "source": [
    "res = []\n",
    "for j in range(len(seeds)):\n",
    "    res_p = []\n",
    "    i = 0\n",
    "    with open('../whome/Downloads/output_pess' + str(seeds[j]) + '.txt', 'r') as file:\n",
    "        for line in file:\n",
    "            # Process each line here\n",
    "            if 'A' in line:\n",
    "                if labels_p[j][i] == 1:\n",
    "                    res_p.append(1)\n",
    "                else:\n",
    "                    res_p.append(0)\n",
    "                i+=1\n",
    "            if 'B' in line:\n",
    "                if labels_p[j][i] == 0:\n",
    "                    res_p.append(1)\n",
    "                else:\n",
    "                    res_p.append(0)\n",
    "                i += 1\n",
    "    i = 0 \n",
    "    res_b = []\n",
    "    with open('../whome/Downloads/output_base' + str(seeds[j]) + '.txt', 'r') as file:\n",
    "        for line in file:\n",
    "            if 'A' in line:\n",
    "                if labels_b[j][i] == 1:\n",
    "                    res_b.append(1)\n",
    "                else:\n",
    "                    res_b.append(0)\n",
    "    \n",
    "                i+=1\n",
    "            if 'B' in line:\n",
    "                if labels_b[j][i] == 0:\n",
    "                    res_b.append(1)\n",
    "                else:\n",
    "                    res_b.append(0)\n",
    "                i+=1\n",
    "    res.append([np.sum(res_p)/len(res_p), np.sum(res_b)/len(res_b)])"
   ]
  },
  {
   "cell_type": "code",
   "execution_count": 10,
   "id": "93e0da62-7e1e-480c-a6fe-0214bcfe7dae",
   "metadata": {},
   "outputs": [
    {
     "name": "stdout",
     "output_type": "stream",
     "text": [
      "0.54 0.528\n",
      "0.506 0.556\n",
      "0.5 0.49\n",
      "0.466 0.466\n",
      "0.482 0.466\n"
     ]
    }
   ],
   "source": [
    "for [x, y] in res:\n",
    "    print(x, y)"
   ]
  },
  {
   "cell_type": "code",
   "execution_count": null,
   "id": "988c9f74-70e9-4580-aa96-05ccb4f3850a",
   "metadata": {},
   "outputs": [],
   "source": []
  }
 ],
 "metadata": {
  "kernelspec": {
   "display_name": "Python 3 (ipykernel)",
   "language": "python",
   "name": "python3"
  },
  "language_info": {
   "codemirror_mode": {
    "name": "ipython",
    "version": 3
   },
   "file_extension": ".py",
   "mimetype": "text/x-python",
   "name": "python",
   "nbconvert_exporter": "python",
   "pygments_lexer": "ipython3",
   "version": "3.10.16"
  }
 },
 "nbformat": 4,
 "nbformat_minor": 5
}
