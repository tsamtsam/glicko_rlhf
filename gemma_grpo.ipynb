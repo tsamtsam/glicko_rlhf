{
 "cells": [
  {
   "cell_type": "code",
   "execution_count": 1,
   "id": "760d7946-3145-403b-a544-e2fb8373aa5d",
   "metadata": {},
   "outputs": [
    {
     "name": "stdout",
     "output_type": "stream",
     "text": [
      "🦥 Unsloth: Will patch your computer to enable 2x faster free finetuning.\n",
      "🦥 Unsloth Zoo will now patch everything to make training faster!\n",
      "INFO 05-04 08:27:36 [__init__.py:256] Automatically detected platform cuda.\n"
     ]
    }
   ],
   "source": [
    "from unsloth import FastModel\n",
    "import torch\n",
    "import torch.nn as nn\n",
    "from datasets import load_dataset\n",
    "import re\n",
    "from trl import GRPOConfig, GRPOTrainer\n",
    "from transformers import (\n",
    "    GPT2Model,\n",
    "    GPT2Tokenizer,\n",
    "    GPT2PreTrainedModel,\n",
    "    GPT2Config,\n",
    "    Trainer,\n",
    "    TrainingArguments,\n",
    "    AutoModelForCausalLM,\n",
    "    TextStreamer\n",
    ")\n",
    "from typing import Dict, List\n",
    "import pickle\n",
    "import pandas as pd\n",
    "import numpy as np\n",
    "import matplotlib.pyplot as plt\n",
    "import seaborn as sns\n",
    "from sklearn.model_selection import train_test_split\n",
    "import os\n",
    "from tqdm import tqdm\n",
    "from datasets import Dataset as HFDataset\n",
    "from sklearn.metrics import mean_squared_error, mean_absolute_error, r2_score\n",
    "import datetime\n",
    "import time"
   ]
  },
  {
   "cell_type": "code",
   "execution_count": 3,
   "id": "7ead532b-d637-4641-a2ed-c9fbfdaa8253",
   "metadata": {},
   "outputs": [
    {
     "name": "stdout",
     "output_type": "stream",
     "text": [
      "Using device: cuda\n"
     ]
    }
   ],
   "source": [
    "# Check for GPU availability\n",
    "device = torch.device(\"cuda\" if torch.cuda.is_available() else \"cpu\")\n",
    "print(f\"Using device: {device}\")"
   ]
  },
  {
   "cell_type": "code",
   "execution_count": 4,
   "id": "a8f314c8-2a42-4f6a-a2a4-3845f5b108b8",
   "metadata": {},
   "outputs": [],
   "source": [
    "class GPT2ForRegression(GPT2PreTrainedModel):\n",
    "    def __init__(self, config):\n",
    "        super().__init__(config)\n",
    "        # Load pre-trained GPT-2\n",
    "        self.gpt2 = GPT2Model(config)\n",
    "        \n",
    "        # Add a custom regression head\n",
    "        self.regression_head = nn.Sequential(\n",
    "            nn.Dropout(config.resid_pdrop),\n",
    "            nn.Linear(config.hidden_size, 512),\n",
    "            nn.ReLU(),\n",
    "            nn.Dropout(0.2),\n",
    "            nn.Linear(512, 256),\n",
    "            nn.ReLU(),\n",
    "            nn.Dropout(0.2),\n",
    "            nn.Linear(256, 1)\n",
    "        )\n",
    "        \n",
    "        # Initialize weights\n",
    "        self.init_weights()\n",
    "        \n",
    "        # Freeze all GPT-2 parameters\n",
    "        for param in self.gpt2.parameters():\n",
    "            param.requires_grad = False\n",
    "    \n",
    "    def forward(self, input_ids=None, attention_mask=None, token_type_ids=None, \n",
    "                position_ids=None, head_mask=None, inputs_embeds=None, labels=None, **kwargs):\n",
    "        \n",
    "        # Get the output from GPT-2 base model\n",
    "        with torch.no_grad():  # Ensure no gradients flow through GPT-2\n",
    "            outputs = self.gpt2(\n",
    "                input_ids=input_ids,\n",
    "                attention_mask=attention_mask,\n",
    "                token_type_ids=token_type_ids,\n",
    "                position_ids=position_ids,\n",
    "                head_mask=head_mask,\n",
    "                inputs_embeds=inputs_embeds\n",
    "            )\n",
    "        \n",
    "        # Get the last hidden state\n",
    "        sequence_output = outputs[0]\n",
    "        \n",
    "        # Use the last token's representation\n",
    "        batch_size = sequence_output.shape[0]\n",
    "        last_token_ids = attention_mask.sum(dim=1) - 1\n",
    "        last_token_ids = last_token_ids.unsqueeze(-1).unsqueeze(-1).repeat(1, 1, sequence_output.size(-1))\n",
    "        last_token_output = torch.gather(sequence_output, 1, last_token_ids).squeeze(1)\n",
    "        \n",
    "        # Pass through regression head\n",
    "        logits = self.regression_head(last_token_output).squeeze(-1)\n",
    "        \n",
    "        loss = None\n",
    "        if labels is not None:\n",
    "            loss_fct = nn.MSELoss()\n",
    "            loss = loss_fct(logits.view(-1), labels.view(-1))\n",
    "        \n",
    "        return {\"loss\": loss, \"logits\": logits} if loss is not None else {\"logits\": logits}"
   ]
  },
  {
   "cell_type": "code",
   "execution_count": 5,
   "id": "d3e3bd24-8163-40b9-9a07-0be652949408",
   "metadata": {},
   "outputs": [],
   "source": [
    "def load_reward_model(model_path):\n",
    "    \"\"\"Load the saved reward model\"\"\"\n",
    "    print(f\"Loading reward model from {model_path}\")\n",
    "    tokenizer = GPT2Tokenizer.from_pretrained(model_path)\n",
    "    tokenizer.pad_token = tokenizer.eos_token\n",
    "    # Create the model\n",
    "    model = GPT2ForRegression.from_pretrained(model_path)\n",
    "    # Set model to eval mode\n",
    "    model.eval()\n",
    "    model.to(device)  \n",
    "    return model, tokenizer"
   ]
  },
  {
   "cell_type": "code",
   "execution_count": 6,
   "id": "7f47b200-c99e-422e-b63a-09507916e76a",
   "metadata": {},
   "outputs": [
    {
     "name": "stdout",
     "output_type": "stream",
     "text": [
      "Loading reward model from ./gpt2-reward-model-frozen\n"
     ]
    }
   ],
   "source": [
    "# Path to your saved model - adjust this to your actual model path\n",
    "reward_model_path = \"./gpt2-reward-model-frozen\"\n",
    "\n",
    "# Load the model\n",
    "reward_model, reward_tokenizer = load_reward_model(reward_model_path)"
   ]
  },
  {
   "cell_type": "code",
   "execution_count": 7,
   "id": "7afbf4c8-a3cf-4476-81cb-26ca2d637ecd",
   "metadata": {},
   "outputs": [
    {
     "name": "stdout",
     "output_type": "stream",
     "text": [
      "Reward function initialized on device: cuda\n"
     ]
    }
   ],
   "source": [
    "class RewardFunction:\n",
    "    def __init__(self, model, tokenizer, device=\"cuda\" if torch.cuda.is_available() else \"cpu\"):\n",
    "        self.model = model.to(device)\n",
    "        self.tokenizer = tokenizer\n",
    "        self.device = device\n",
    "        self.model.eval()\n",
    "        print(f\"Reward function initialized on device: {device}\")\n",
    "    \n",
    "    def __call__(self, query_text: List[str], response_text: List[str]) -> torch.Tensor:\n",
    "        \"\"\"\n",
    "        Calculate rewards for each query-response pair\n",
    "        \n",
    "        Args:\n",
    "            query_text: List of query/instruction strings\n",
    "            response_text: List of response strings\n",
    "            \n",
    "        Returns:\n",
    "            torch.Tensor of rewards\n",
    "        \"\"\"\n",
    "        rewards = []\n",
    "        \n",
    "        for query, response in zip(query_text, response_text):\n",
    "            # Format the input as \"Question: {query} Answer: {response}\"\n",
    "            formatted_text = f\"Question: {query} Answer: {response}\"\n",
    "            \n",
    "            # Tokenize\n",
    "            inputs = self.tokenizer(\n",
    "                formatted_text,\n",
    "                return_tensors=\"pt\",\n",
    "                padding=\"max_length\",\n",
    "                truncation=True,\n",
    "                max_length=512\n",
    "            ).to(self.device)\n",
    "            \n",
    "            # Get model prediction\n",
    "            with torch.no_grad():\n",
    "                outputs = self.model(**inputs)\n",
    "                reward = outputs[\"logits\"].item()\n",
    "            \n",
    "            rewards.append(reward)\n",
    "        \n",
    "        return torch.tensor(rewards, device=self.device)\n",
    "\n",
    "# Initialize the reward function\n",
    "reward_fn = RewardFunction(reward_model, reward_tokenizer)"
   ]
  },
  {
   "cell_type": "code",
   "execution_count": 8,
   "id": "161909c2-8450-4aa3-94b5-13ad64f3922e",
   "metadata": {},
   "outputs": [
    {
     "name": "stdout",
     "output_type": "stream",
     "text": [
      "Reward function initialized on device: cuda\n"
     ]
    }
   ],
   "source": [
    "# Non list implementation\n",
    "class RewardFunction:\n",
    "    def __init__(self, model, tokenizer, device=\"cuda\" if torch.cuda.is_available() else \"cpu\"):\n",
    "        self.model = model.to(device)\n",
    "        self.tokenizer = tokenizer\n",
    "        self.device = device\n",
    "        self.model.eval()\n",
    "        print(f\"Reward function initialized on device: {device}\")\n",
    "    \n",
    "    def __call__(self, query_text: str, response_text: str) -> torch.Tensor:\n",
    "        \"\"\"\n",
    "        Calculate rewards for each query-response pair\n",
    "        \n",
    "        Args:\n",
    "            query_text: List of query/instruction strings\n",
    "            response_text: List of response strings\n",
    "            \n",
    "        Returns:\n",
    "            torch.Tensor of rewards\n",
    "        \"\"\"\n",
    "        formatted_text = f\"Question: {query_text} Answer: {response_text}\"\n",
    "        # Tokenize\n",
    "        inputs = self.tokenizer(\n",
    "            formatted_text,\n",
    "            return_tensors=\"pt\",\n",
    "            padding=\"max_length\",\n",
    "            truncation=True,\n",
    "            max_length=512\n",
    "        ).to(self.device)\n",
    "        with torch.no_grad():\n",
    "            outputs = self.model(**inputs)\n",
    "            reward = outputs[\"logits\"].item()\n",
    "        return torch.tensor(reward, device=self.device)\n",
    "\n",
    "\n",
    "# Initialize the reward function\n",
    "reward_fn = RewardFunction(reward_model, reward_tokenizer)"
   ]
  },
  {
   "cell_type": "code",
   "execution_count": 9,
   "id": "5d1d8071-1372-4699-ac5e-8aebd18c81ae",
   "metadata": {},
   "outputs": [
    {
     "name": "stdout",
     "output_type": "stream",
     "text": [
      "Test rewards: tensor(0.5080, device='cuda:0')\n"
     ]
    },
    {
     "data": {
      "image/png": "[encoded data removed]",
      "text/plain": [
       "<Figure size 800x400 with 1 Axes>"
      ]
     },
     "metadata": {},
     "output_type": "display_data"
    }
   ],
   "source": [
    "# Test the reward function with some example data\n",
    "test_queries = [\n",
    "    \"What is machine learning?\",\n",
    "    \"How does photosynthesis work?\"\n",
    "]\n",
    "\n",
    "test_responses = [\n",
    "    \"Machine learning is a field of artificial intelligence that enables computers to learn from data without being explicitly programmed.\",\n",
    "    \"Photosynthesis is the process where plants convert sunlight, water, and carbon dioxide into oxygen and glucose for energy.\"\n",
    "]\n",
    "\n",
    "# Get rewards for test data\n",
    "rewards = reward_fn(test_queries[0], test_responses[0])\n",
    "print(\"Test rewards:\", rewards)\n",
    "\n",
    "# Visualize the rewards\n",
    "plt.figure(figsize=(8, 4))\n",
    "plt.bar(range(len(test_queries)), rewards.cpu().numpy())\n",
    "plt.xticks(range(len(test_queries)), test_queries, rotation=45, ha='right')\n",
    "plt.ylabel('Reward Score')\n",
    "plt.title('Reward Model Test Results')\n",
    "plt.tight_layout()\n",
    "plt.show()"
   ]
  },
  {
   "cell_type": "code",
   "execution_count": 10,
   "id": "ad3bc1bc-140b-4149-82f2-e4bdcd716a05",
   "metadata": {},
   "outputs": [
    {
     "data": {
      "application/vnd.jupyter.widget-view+json": {
       "model_id": "f1abdcbc86a64dacb3bab649150bc663",
       "version_major": 2,
       "version_minor": 0
      },
      "text/plain": [
       "Resolving data files:   0%|          | 0/18 [00:00<?, ?it/s]"
      ]
     },
     "metadata": {},
     "output_type": "display_data"
    },
    {
     "data": {
      "application/vnd.jupyter.widget-view+json": {
       "model_id": "892bc2d2ae0944ad928d6ba0c9ad64b2",
       "version_major": 2,
       "version_minor": 0
      },
      "text/plain": [
       "Resolving data files:   0%|          | 0/18 [00:00<?, ?it/s]"
      ]
     },
     "metadata": {},
     "output_type": "display_data"
    },
    {
     "data": {
      "application/vnd.jupyter.widget-view+json": {
       "model_id": "f74a928ede934b82bf34d7d741e6ee66",
       "version_major": 2,
       "version_minor": 0
      },
      "text/plain": [
       "Resolving data files:   0%|          | 0/18 [00:00<?, ?it/s]"
      ]
     },
     "metadata": {},
     "output_type": "display_data"
    },
    {
     "data": {
      "text/plain": [
       "Dataset({\n",
       "    features: ['post_id', 'domain', 'upvote_ratio', 'history', 'c_root_id_A', 'c_root_id_B', 'created_at_utc_A', 'created_at_utc_B', 'score_A', 'score_B', 'human_ref_A', 'human_ref_B', 'labels', 'seconds_difference', 'score_ratio'],\n",
       "    num_rows: 3487\n",
       "})"
      ]
     },
     "execution_count": 10,
     "metadata": {},
     "output_type": "execute_result"
    }
   ],
   "source": [
    "dataset = load_dataset(\"stanfordnlp/shp\",  split='train[:1%]')\n",
    "dataset"
   ]
  },
  {
   "cell_type": "code",
   "execution_count": null,
   "id": "8444e0f9-d670-494d-8ff3-740b89832369",
   "metadata": {},
   "outputs": [
    {
     "data": {
      "application/vnd.jupyter.widget-view+json": {
       "model_id": "da6a299cc705448aadaebd744e6cb009",
       "version_major": 2,
       "version_minor": 0
      },
      "text/plain": [
       "Map:   0%|          | 0/3487 [00:00<?, ? examples/s]"
      ]
     },
     "metadata": {},
     "output_type": "display_data"
    }
   ],
   "source": [
    "# Format Dataset for GRPO Trainer\n",
    "dataset_rew = dataset.map(lambda x: {\n",
    "    \"prompt\" : x['history'],\n",
    "    \"chosen\": x['human_ref_A'] if x['labels'] == 1 else x['human_ref_B'],\n",
    "    \"rewards\": reward_fn( x['history'], x['human_ref_A'] if x['labels'] == 1 else x['human_ref_B'])\n",
    "})\n",
    "dataset_rew[0]"
   ]
  },
  {
   "cell_type": "code",
   "execution_count": null,
   "id": "1cfd716f-ce11-442e-958b-e130c476faa4",
   "metadata": {},
   "outputs": [],
   "source": [
    "# Create reward function that passes the prompt and answer to our finetuned GPT2 to predict the glicko score - volatility\n",
    "def gpt_reward(prompts, completions, rewards, **kwargs):\n",
    "    return rewards\n",
    "        "
   ]
  },
  {
   "cell_type": "code",
   "execution_count": null,
   "id": "510adb49-24c8-4f66-9f75-e6f3bb7cd657",
   "metadata": {},
   "outputs": [],
   "source": [
    "max_seq_length = 1024\n",
    "\n",
    "fourbit_models = [\n",
    "    # 4bit dynamic quants for superior accuracy and low memory use\n",
    "    \"unsloth/gemma-3-1b-it-unsloth-bnb-4bit\",\n",
    "    \"unsloth/gemma-3-4b-it-unsloth-bnb-4bit\",\n",
    "    \"unsloth/gemma-3-12b-it-unsloth-bnb-4bit\",\n",
    "    \"unsloth/gemma-3-27b-it-unsloth-bnb-4bit\",\n",
    "\n",
    "    # Other popular models!\n",
    "    \"unsloth/Llama-3.1-8B\",\n",
    "    \"unsloth/Llama-3.2-3B\",\n",
    "    \"unsloth/Llama-3.3-70B\",\n",
    "    \"unsloth/mistral-7b-instruct-v0.3\",\n",
    "    \"unsloth/Phi-4\",\n",
    "] # More models at https://huggingface.co/unsloth\n",
    "\n",
    "model, tokenizer = FastModel.from_pretrained(\n",
    "    model_name = \"unsloth/gemma-3-1b-it\",\n",
    "    max_seq_length = max_seq_length, # Choose any for long context!\n",
    "    load_in_4bit = False,  # 4 bit quantization to reduce memory\n",
    "    load_in_8bit = False, # [NEW!] A bit more accurate, uses 2x memory\n",
    "    full_finetuning = False, # [NEW!] We have full finetuning now!\n",
    "    # token = \"hf_...\", # use one if using gated models\n",
    ")"
   ]
  },
  {
   "cell_type": "code",
   "execution_count": null,
   "id": "d7ff1b1b-366c-46df-8e34-fd630751807e",
   "metadata": {},
   "outputs": [],
   "source": [
    "model = FastModel.get_peft_model(\n",
    "    model,\n",
    "    finetune_vision_layers     = False, # Turn off for just text!\n",
    "    finetune_language_layers   = True,  # Should leave on!\n",
    "    finetune_attention_modules = True,  # Attention good for GRPO\n",
    "    finetune_mlp_modules       = True,  # SHould leave on always!\n",
    "\n",
    "    r = 8,           # Larger = higher accuracy, but might overfit\n",
    "    lora_alpha = 8,  # Recommended alpha == r at least\n",
    "    lora_dropout = 0,\n",
    "    bias = \"none\",\n",
    "    random_state = 3407,\n",
    ")"
   ]
  },
  {
   "cell_type": "code",
   "execution_count": null,
   "id": "8c31f46d-0d7d-4c43-9d70-5abcb261c351",
   "metadata": {},
   "outputs": [],
   "source": [
    "# Ensure proper padding token\n",
    "if tokenizer.pad_token is None:\n",
    "    tokenizer.pad_token = tokenizer.eos_token\n",
    "max_prompt_length = 256\n",
    "max_seq_length = 1024\n",
    "# Configure GRPO - adjust based on your GPU memory\n",
    "training_args = GRPOConfig(\n",
    "    learning_rate = 5e-6,\n",
    "    adam_beta1 = 0.9,\n",
    "    adam_beta2 = 0.99,\n",
    "    weight_decay = 0.1,\n",
    "    warmup_ratio = 0.1,\n",
    "    lr_scheduler_type = \"cosine\",\n",
    "    optim = \"adamw_torch_fused\",\n",
    "    logging_steps = 1,\n",
    "    per_device_train_batch_size =2,\n",
    "    gradient_accumulation_steps = 1, # Increase to 4 for smoother training\n",
    "    num_generations = 2, # Decrease if out of memory\n",
    "    max_prompt_length = max_prompt_length,\n",
    "    max_completion_length = max_seq_length - max_prompt_length,\n",
    "    num_train_epochs = 1, # Set to 1 for a full training run\n",
    "    max_steps = 25,\n",
    "    save_steps = 50,\n",
    "    max_grad_norm = 0.1,\n",
    "    report_to = \"none\", # Can use Weights & Biases\n",
    "    output_dir = \"outputs\",\n",
    ")"
   ]
  },
  {
   "cell_type": "code",
   "execution_count": null,
   "id": "5a840cef-08aa-4653-9bba-cc34cd332754",
   "metadata": {},
   "outputs": [],
   "source": [
    "trainer = GRPOTrainer(\n",
    "        model=model,\n",
    "        tokenizer=tokenizer,\n",
    "        args=training_args,\n",
    "        train_dataset=dataset_rew,\n",
    "        reward_funcs=gpt_reward  # This is the correct place for the reward_model parameter\n",
    "    )"
   ]
  },
  {
   "cell_type": "code",
   "execution_count": null,
   "id": "af7111e5-212c-4981-90c7-0efcdf9c1fa6",
   "metadata": {},
   "outputs": [],
   "source": [
    "trainer.train()"
   ]
  },
  {
   "cell_type": "code",
   "execution_count": null,
   "id": "b8958dd1-7a96-4141-bb05-b3e079581fb1",
   "metadata": {},
   "outputs": [],
   "source": [
    "# Save the model to a local directory\n",
    "output_path = \"gemma_glicko\"\n",
    "trainer.save_model(output_path)\n",
    "print(f\"Model saved to {output_path}\")"
   ]
  },
  {
   "cell_type": "code",
   "execution_count": null,
   "id": "b666d914-d672-4e95-9c0a-14ffb823f095",
   "metadata": {},
   "outputs": [],
   "source": []
  },
  {
   "cell_type": "code",
   "execution_count": null,
   "id": "6738e916-308c-4f48-b8a7-9475fbc40a91",
   "metadata": {},
   "outputs": [],
   "source": []
  }
 ],
 "metadata": {
  "kernelspec": {
   "display_name": "Python 3 (ipykernel)",
   "language": "python",
   "name": "python3"
  },
  "language_info": {
   "codemirror_mode": {
    "name": "ipython",
    "version": 3
   },
   "file_extension": ".py",
   "mimetype": "text/x-python",
   "name": "python",
   "nbconvert_exporter": "python",
   "pygments_lexer": "ipython3",
   "version": "3.10.16"
  }
 },
 "nbformat": 4,
 "nbformat_minor": 5
}
