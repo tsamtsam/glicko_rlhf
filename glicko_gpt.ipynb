{
 "cells": [
  {
   "cell_type": "code",
   "execution_count": 19,
   "id": "812fc442-7b37-45b3-a063-65ba85a17eb4",
   "metadata": {},
   "outputs": [],
   "source": [
    "import pickle\n",
    "import pandas as pd\n",
    "import numpy as np\n",
    "import matplotlib.pyplot as plt\n",
    "import seaborn as sns\n",
    "import torch\n",
    "import torch.nn as nn\n",
    "from torch.utils.data import Dataset, DataLoader\n",
    "from sklearn.model_selection import train_test_split\n",
    "import os\n",
    "from tqdm import tqdm\n",
    "from transformers import (\n",
    "    GPT2Model,\n",
    "    GPT2Tokenizer,\n",
    "    GPT2PreTrainedModel,\n",
    "    GPT2Config,\n",
    "    Trainer,\n",
    "    TrainingArguments\n",
    ")\n",
    "from datasets import Dataset as HFDataset\n",
    "from sklearn.metrics import mean_squared_error, mean_absolute_error, r2_score"
   ]
  },
  {
   "cell_type": "code",
   "execution_count": 2,
   "id": "fd58fc58-ece9-4792-92fb-27785134dc86",
   "metadata": {},
   "outputs": [
    {
     "name": "stdout",
     "output_type": "stream",
     "text": [
      "Using device: cuda\n"
     ]
    }
   ],
   "source": [
    "# Check for GPU availability\n",
    "device = torch.device(\"cuda\" if torch.cuda.is_available() else \"cpu\")\n",
    "print(f\"Using device: {device}\")"
   ]
  },
  {
   "cell_type": "code",
   "execution_count": 3,
   "id": "df5dba85-dbeb-4a9a-9dc6-d30e1c6c57e0",
   "metadata": {},
   "outputs": [],
   "source": [
    "# Load the data\n",
    "df = pd.read_csv('author_ratings_normalized.csv', lineterminator='\\n')"
   ]
  },
  {
   "cell_type": "code",
   "execution_count": 4,
   "id": "3d7e5a5d-181b-418f-978e-f84cbd43cb14",
   "metadata": {},
   "outputs": [
    {
     "name": "stdout",
     "output_type": "stream",
     "text": [
      "Reward statistics:\n",
      "count    246286.000000\n",
      "mean          0.456940\n",
      "std           0.242306\n",
      "min          -0.039580\n",
      "25%           0.283523\n",
      "50%           0.456561\n",
      "75%           0.636640\n",
      "max           0.963868\n",
      "Name: reward, dtype: float64\n"
     ]
    },
    {
     "data": {
      "image/png": "[encoded data removed]",
      "text/plain": [
       "<Figure size 1000x600 with 1 Axes>"
      ]
     },
     "metadata": {},
     "output_type": "display_data"
    }
   ],
   "source": [
    "# Create pessimistic target \n",
    "a = .05\n",
    "b = .05\n",
    "df['reward'] = df['rating_norm'] - a*df['rd_norm'] - b*df['volatility_norm']\n",
    "\n",
    "# Display reward statistics\n",
    "print(f\"Reward statistics:\\n{df['reward'].describe()}\")\n",
    "\n",
    "# Plot reward distribution\n",
    "plt.figure(figsize=(10, 6))\n",
    "plt.hist(df['reward'], bins=20)\n",
    "plt.title('Distribution of Rewards')\n",
    "plt.xlabel('Reward Value')\n",
    "plt.ylabel('Frequency')\n",
    "plt.show()\n",
    "\n",
    "# Ensure column names match expected format\n",
    "if \"question\" not in df.columns and \"questions\" in df.columns:\n",
    "    df = df.rename(columns={\"questions\": \"question\"})\n",
    "if \"answer\" not in df.columns and \"answers\" in df.columns:\n",
    "    df = df.rename(columns={\"answers\": \"answer\"})\n",
    "if \"reward\" not in df.columns and \"rewards\" in df.columns:\n",
    "    df = df.rename(columns={\"rewards\": \"reward\"})"
   ]
  },
  {
   "cell_type": "code",
   "execution_count": 5,
   "id": "aeccf08b-78cd-45ab-b2ae-b8704b4684e1",
   "metadata": {},
   "outputs": [],
   "source": [
    "class GPT2ForRegression(GPT2PreTrainedModel):\n",
    "    def __init__(self, config):\n",
    "        super().__init__(config)\n",
    "        # Load pre-trained GPT-2\n",
    "        self.gpt2 = GPT2Model(config)\n",
    "        \n",
    "        # Add a custom regression head\n",
    "        self.regression_head = nn.Sequential(\n",
    "            nn.Dropout(config.resid_pdrop),\n",
    "            nn.Linear(config.hidden_size, 512),\n",
    "            nn.ReLU(),\n",
    "            nn.Dropout(0.2),\n",
    "            nn.Linear(512, 256),\n",
    "            nn.ReLU(),\n",
    "            nn.Dropout(0.2),\n",
    "            nn.Linear(256, 1)\n",
    "        )\n",
    "        \n",
    "        # Initialize weights\n",
    "        self.init_weights()\n",
    "        \n",
    "        # Freeze all GPT-2 parameters\n",
    "        for param in self.gpt2.parameters():\n",
    "            param.requires_grad = False\n",
    "    \n",
    "    def forward(self, input_ids=None, attention_mask=None, token_type_ids=None, \n",
    "                position_ids=None, head_mask=None, inputs_embeds=None, labels=None, **kwargs):\n",
    "        \n",
    "        # Get the output from GPT-2 base model\n",
    "        with torch.no_grad():  # Ensure no gradients flow through GPT-2\n",
    "            outputs = self.gpt2(\n",
    "                input_ids=input_ids,\n",
    "                attention_mask=attention_mask,\n",
    "                token_type_ids=token_type_ids,\n",
    "                position_ids=position_ids,\n",
    "                head_mask=head_mask,\n",
    "                inputs_embeds=inputs_embeds\n",
    "            )\n",
    "        \n",
    "        # Get the last hidden state\n",
    "        sequence_output = outputs[0]\n",
    "        \n",
    "        # Use the last token's representation\n",
    "        batch_size = sequence_output.shape[0]\n",
    "        last_token_ids = attention_mask.sum(dim=1) - 1\n",
    "        last_token_ids = last_token_ids.unsqueeze(-1).unsqueeze(-1).repeat(1, 1, sequence_output.size(-1))\n",
    "        last_token_output = torch.gather(sequence_output, 1, last_token_ids).squeeze(1)\n",
    "        \n",
    "        # Pass through regression head\n",
    "        logits = self.regression_head(last_token_output).squeeze(-1)\n",
    "        \n",
    "        loss = None\n",
    "        if labels is not None:\n",
    "            loss_fct = nn.MSELoss()\n",
    "            loss = loss_fct(logits.view(-1), labels.view(-1))\n",
    "        \n",
    "        return {\"loss\": loss, \"logits\": logits} if loss is not None else {\"logits\": logits}\n",
    "\n",
    "# 3. Setup Data Processing Functions\n",
    "# --------------------------------\n",
    "\n",
    "# Define tokenization function\n",
    "def tokenize_function(examples, tokenizer, max_length=512):\n",
    "    questions = examples[\"question\"]\n",
    "    answers = examples[\"answer\"]\n",
    "    \n",
    "    # Combine question and answer pairs\n",
    "    texts = [f\"Question: {q} Answer: {a}\" for q, a in zip(questions, answers)]\n",
    "    \n",
    "    # Tokenize the texts\n",
    "    tokenized = tokenizer(\n",
    "        texts,\n",
    "        padding=\"max_length\",\n",
    "        truncation=True,\n",
    "        max_length=max_length,\n",
    "        return_tensors=\"pt\"\n",
    "    )\n",
    "    \n",
    "    return tokenized\n",
    "\n",
    "# Create a dataset preparation function\n",
    "def prepare_dataset(examples, tokenized_examples):\n",
    "    return {\n",
    "        'input_ids': tokenized_examples['input_ids'],\n",
    "        'attention_mask': tokenized_examples['attention_mask'],\n",
    "        'labels': examples['reward']\n",
    "    }\n",
    "# Function to predict reward for a question-answer pair\n",
    "def predict_reward(question, answer, model, tokenizer, device=None):\n",
    "    \"\"\"\n",
    "    Predict the reward for a given question-answer pair\n",
    "    \n",
    "    Args:\n",
    "        question (str): The question\n",
    "        answer (str): The answer\n",
    "        model: The trained reward model\n",
    "        tokenizer: The tokenizer\n",
    "        device: The device to use for prediction\n",
    "        \n",
    "    Returns:\n",
    "        float: The predicted reward\n",
    "    \"\"\"\n",
    "    if device is None:\n",
    "        device = torch.device(\"cuda\" if torch.cuda.is_available() else \"cpu\")\n",
    "    \n",
    "    model.to(device)\n",
    "    model.eval()\n",
    "    \n",
    "    # Tokenize input\n",
    "    text = f\"Question: {question} Answer: {answer}\"\n",
    "    encoded_input = tokenizer(\n",
    "        text,\n",
    "        return_tensors=\"pt\",\n",
    "        padding=\"max_length\",\n",
    "        truncation=True,\n",
    "        max_length=512\n",
    "    )\n",
    "    \n",
    "    # Move inputs to device\n",
    "    encoded_input = {k: v.to(device) for k, v in encoded_input.items()}\n",
    "    \n",
    "    # Make prediction\n",
    "    with torch.no_grad():\n",
    "        outputs = model(**encoded_input)\n",
    "        prediction = outputs[\"logits\"].item()\n",
    "    \n",
    "    return prediction"
   ]
  },
  {
   "cell_type": "code",
   "execution_count": 23,
   "id": "32462dbc-a499-4cff-a4c1-e49a801e9603",
   "metadata": {},
   "outputs": [
    {
     "name": "stdout",
     "output_type": "stream",
     "text": [
      "Training set size: 40000\n",
      "Validation set size: 10000\n"
     ]
    }
   ],
   "source": [
    "# Limit the data size for faster training in this example\n",
    "data_lim = 50000  # Adjust based on available computational resources\n",
    "\n",
    "# Split data into train and validation sets\n",
    "train_df, eval_df = train_test_split(df.sample(data_lim), test_size=0.2, random_state=42)\n",
    "\n",
    "print(f\"Training set size: {len(train_df)}\")\n",
    "print(f\"Validation set size: {len(eval_df)}\")\n",
    "\n",
    "# Load pre-trained GPT-2 tokenizer\n",
    "model_name = \"gpt2\"  # Options: \"gpt2\", \"gpt2-medium\", \"gpt2-large\", \"gpt2-xl\"\n",
    "tokenizer = GPT2Tokenizer.from_pretrained(model_name)\n",
    "tokenizer.pad_token = tokenizer.eos_token  # GPT-2 doesn't have a pad token by default"
   ]
  },
  {
   "cell_type": "code",
   "execution_count": 24,
   "id": "f62af2a1-4dd4-4492-9ed3-f80f98c9ca6e",
   "metadata": {},
   "outputs": [
    {
     "data": {
      "application/vnd.jupyter.widget-view+json": {
       "model_id": "9dcb1becb4bd4270837a56ff88e84e75",
       "version_major": 2,
       "version_minor": 0
      },
      "text/plain": [
       "Map:   0%|          | 0/40000 [00:00<?, ? examples/s]"
      ]
     },
     "metadata": {},
     "output_type": "display_data"
    },
    {
     "data": {
      "application/vnd.jupyter.widget-view+json": {
       "model_id": "08934257ba9445e4bfc946e2c10ee97b",
       "version_major": 2,
       "version_minor": 0
      },
      "text/plain": [
       "Map:   0%|          | 0/10000 [00:00<?, ? examples/s]"
      ]
     },
     "metadata": {},
     "output_type": "display_data"
    },
    {
     "data": {
      "application/vnd.jupyter.widget-view+json": {
       "model_id": "cdc9f3529d4c425cad84597d684f0529",
       "version_major": 2,
       "version_minor": 0
      },
      "text/plain": [
       "Map:   0%|          | 0/40000 [00:00<?, ? examples/s]"
      ]
     },
     "metadata": {},
     "output_type": "display_data"
    },
    {
     "data": {
      "application/vnd.jupyter.widget-view+json": {
       "model_id": "d0e330db6e6c4c5d93d3927273fe17d6",
       "version_major": 2,
       "version_minor": 0
      },
      "text/plain": [
       "Map:   0%|          | 0/10000 [00:00<?, ? examples/s]"
      ]
     },
     "metadata": {},
     "output_type": "display_data"
    }
   ],
   "source": [
    "# Create datasets\n",
    "train_dataset = HFDataset.from_pandas(train_df)\n",
    "eval_dataset = HFDataset.from_pandas(eval_df)\n",
    "\n",
    "# Tokenize datasets\n",
    "tokenized_train = train_dataset.map(\n",
    "    lambda examples: tokenize_function(examples, tokenizer),\n",
    "    batched=True\n",
    ")\n",
    "\n",
    "tokenized_eval = eval_dataset.map(\n",
    "    lambda examples: tokenize_function(examples, tokenizer),\n",
    "    batched=True\n",
    ")\n",
    "\n",
    "# Prepare final datasets\n",
    "processed_train = tokenized_train.map(\n",
    "    lambda examples: prepare_dataset(examples, tokenize_function(examples, tokenizer)),\n",
    "    batched=True,\n",
    "    remove_columns=[col for col in tokenized_train.column_names if col not in ['input_ids', 'attention_mask', 'labels']]\n",
    ")\n",
    "\n",
    "processed_eval = tokenized_eval.map(\n",
    "    lambda examples: prepare_dataset(examples, tokenize_function(examples, tokenizer)),\n",
    "    batched=True,\n",
    "    remove_columns=[col for col in tokenized_eval.column_names if col not in ['input_ids', 'attention_mask', 'labels']]\n",
    ")\n",
    "\n",
    "# Format for torch tensors\n",
    "processed_train.set_format(type='torch', columns=['input_ids', 'attention_mask', 'labels'])\n",
    "processed_eval.set_format(type='torch', columns=['input_ids', 'attention_mask', 'labels'])"
   ]
  },
  {
   "cell_type": "code",
   "execution_count": 25,
   "id": "251f3e0d-2061-4396-89cf-20ad099c89d1",
   "metadata": {},
   "outputs": [
    {
     "name": "stderr",
     "output_type": "stream",
     "text": [
      "Some weights of GPT2ForRegression were not initialized from the model checkpoint at gpt2 and are newly initialized: ['gpt2.h.0.attn.c_attn.bias', 'gpt2.h.0.attn.c_attn.weight', 'gpt2.h.0.attn.c_proj.bias', 'gpt2.h.0.attn.c_proj.weight', 'gpt2.h.0.ln_1.bias', 'gpt2.h.0.ln_1.weight', 'gpt2.h.0.ln_2.bias', 'gpt2.h.0.ln_2.weight', 'gpt2.h.0.mlp.c_fc.bias', 'gpt2.h.0.mlp.c_fc.weight', 'gpt2.h.0.mlp.c_proj.bias', 'gpt2.h.0.mlp.c_proj.weight', 'gpt2.h.1.attn.c_attn.bias', 'gpt2.h.1.attn.c_attn.weight', 'gpt2.h.1.attn.c_proj.bias', 'gpt2.h.1.attn.c_proj.weight', 'gpt2.h.1.ln_1.bias', 'gpt2.h.1.ln_1.weight', 'gpt2.h.1.ln_2.bias', 'gpt2.h.1.ln_2.weight', 'gpt2.h.1.mlp.c_fc.bias', 'gpt2.h.1.mlp.c_fc.weight', 'gpt2.h.1.mlp.c_proj.bias', 'gpt2.h.1.mlp.c_proj.weight', 'gpt2.h.10.attn.c_attn.bias', 'gpt2.h.10.attn.c_attn.weight', 'gpt2.h.10.attn.c_proj.bias', 'gpt2.h.10.attn.c_proj.weight', 'gpt2.h.10.ln_1.bias', 'gpt2.h.10.ln_1.weight', 'gpt2.h.10.ln_2.bias', 'gpt2.h.10.ln_2.weight', 'gpt2.h.10.mlp.c_fc.bias', 'gpt2.h.10.mlp.c_fc.weight', 'gpt2.h.10.mlp.c_proj.bias', 'gpt2.h.10.mlp.c_proj.weight', 'gpt2.h.11.attn.c_attn.bias', 'gpt2.h.11.attn.c_attn.weight', 'gpt2.h.11.attn.c_proj.bias', 'gpt2.h.11.attn.c_proj.weight', 'gpt2.h.11.ln_1.bias', 'gpt2.h.11.ln_1.weight', 'gpt2.h.11.ln_2.bias', 'gpt2.h.11.ln_2.weight', 'gpt2.h.11.mlp.c_fc.bias', 'gpt2.h.11.mlp.c_fc.weight', 'gpt2.h.11.mlp.c_proj.bias', 'gpt2.h.11.mlp.c_proj.weight', 'gpt2.h.2.attn.c_attn.bias', 'gpt2.h.2.attn.c_attn.weight', 'gpt2.h.2.attn.c_proj.bias', 'gpt2.h.2.attn.c_proj.weight', 'gpt2.h.2.ln_1.bias', 'gpt2.h.2.ln_1.weight', 'gpt2.h.2.ln_2.bias', 'gpt2.h.2.ln_2.weight', 'gpt2.h.2.mlp.c_fc.bias', 'gpt2.h.2.mlp.c_fc.weight', 'gpt2.h.2.mlp.c_proj.bias', 'gpt2.h.2.mlp.c_proj.weight', 'gpt2.h.3.attn.c_attn.bias', 'gpt2.h.3.attn.c_attn.weight', 'gpt2.h.3.attn.c_proj.bias', 'gpt2.h.3.attn.c_proj.weight', 'gpt2.h.3.ln_1.bias', 'gpt2.h.3.ln_1.weight', 'gpt2.h.3.ln_2.bias', 'gpt2.h.3.ln_2.weight', 'gpt2.h.3.mlp.c_fc.bias', 'gpt2.h.3.mlp.c_fc.weight', 'gpt2.h.3.mlp.c_proj.bias', 'gpt2.h.3.mlp.c_proj.weight', 'gpt2.h.4.attn.c_attn.bias', 'gpt2.h.4.attn.c_attn.weight', 'gpt2.h.4.attn.c_proj.bias', 'gpt2.h.4.attn.c_proj.weight', 'gpt2.h.4.ln_1.bias', 'gpt2.h.4.ln_1.weight', 'gpt2.h.4.ln_2.bias', 'gpt2.h.4.ln_2.weight', 'gpt2.h.4.mlp.c_fc.bias', 'gpt2.h.4.mlp.c_fc.weight', 'gpt2.h.4.mlp.c_proj.bias', 'gpt2.h.4.mlp.c_proj.weight', 'gpt2.h.5.attn.c_attn.bias', 'gpt2.h.5.attn.c_attn.weight', 'gpt2.h.5.attn.c_proj.bias', 'gpt2.h.5.attn.c_proj.weight', 'gpt2.h.5.ln_1.bias', 'gpt2.h.5.ln_1.weight', 'gpt2.h.5.ln_2.bias', 'gpt2.h.5.ln_2.weight', 'gpt2.h.5.mlp.c_fc.bias', 'gpt2.h.5.mlp.c_fc.weight', 'gpt2.h.5.mlp.c_proj.bias', 'gpt2.h.5.mlp.c_proj.weight', 'gpt2.h.6.attn.c_attn.bias', 'gpt2.h.6.attn.c_attn.weight', 'gpt2.h.6.attn.c_proj.bias', 'gpt2.h.6.attn.c_proj.weight', 'gpt2.h.6.ln_1.bias', 'gpt2.h.6.ln_1.weight', 'gpt2.h.6.ln_2.bias', 'gpt2.h.6.ln_2.weight', 'gpt2.h.6.mlp.c_fc.bias', 'gpt2.h.6.mlp.c_fc.weight', 'gpt2.h.6.mlp.c_proj.bias', 'gpt2.h.6.mlp.c_proj.weight', 'gpt2.h.7.attn.c_attn.bias', 'gpt2.h.7.attn.c_attn.weight', 'gpt2.h.7.attn.c_proj.bias', 'gpt2.h.7.attn.c_proj.weight', 'gpt2.h.7.ln_1.bias', 'gpt2.h.7.ln_1.weight', 'gpt2.h.7.ln_2.bias', 'gpt2.h.7.ln_2.weight', 'gpt2.h.7.mlp.c_fc.bias', 'gpt2.h.7.mlp.c_fc.weight', 'gpt2.h.7.mlp.c_proj.bias', 'gpt2.h.7.mlp.c_proj.weight', 'gpt2.h.8.attn.c_attn.bias', 'gpt2.h.8.attn.c_attn.weight', 'gpt2.h.8.attn.c_proj.bias', 'gpt2.h.8.attn.c_proj.weight', 'gpt2.h.8.ln_1.bias', 'gpt2.h.8.ln_1.weight', 'gpt2.h.8.ln_2.bias', 'gpt2.h.8.ln_2.weight', 'gpt2.h.8.mlp.c_fc.bias', 'gpt2.h.8.mlp.c_fc.weight', 'gpt2.h.8.mlp.c_proj.bias', 'gpt2.h.8.mlp.c_proj.weight', 'gpt2.h.9.attn.c_attn.bias', 'gpt2.h.9.attn.c_attn.weight', 'gpt2.h.9.attn.c_proj.bias', 'gpt2.h.9.attn.c_proj.weight', 'gpt2.h.9.ln_1.bias', 'gpt2.h.9.ln_1.weight', 'gpt2.h.9.ln_2.bias', 'gpt2.h.9.ln_2.weight', 'gpt2.h.9.mlp.c_fc.bias', 'gpt2.h.9.mlp.c_fc.weight', 'gpt2.h.9.mlp.c_proj.bias', 'gpt2.h.9.mlp.c_proj.weight', 'gpt2.ln_f.bias', 'gpt2.ln_f.weight', 'gpt2.wpe.weight', 'gpt2.wte.weight', 'regression_head.1.bias', 'regression_head.1.weight', 'regression_head.4.bias', 'regression_head.4.weight', 'regression_head.7.bias', 'regression_head.7.weight']\n",
      "You should probably TRAIN this model on a down-stream task to be able to use it for predictions and inference.\n"
     ]
    },
    {
     "name": "stdout",
     "output_type": "stream",
     "text": [
      "Total parameters: 124965121\n",
      "Trainable parameters: 525313\n",
      "Percentage of trainable parameters: 0.42%\n"
     ]
    }
   ],
   "source": [
    "# 6. Initialize the Model\n",
    "# ---------------------\n",
    "\n",
    "# Load GPT-2 configuration\n",
    "config = GPT2Config.from_pretrained(model_name)\n",
    "\n",
    "# Initialize our model with pre-trained GPT-2\n",
    "model = GPT2ForRegression.from_pretrained(model_name, config=config)\n",
    "\n",
    "# Verify that GPT-2 parameters are frozen and only regression head is trainable\n",
    "total_params = 0\n",
    "trainable_params = 0\n",
    "for name, param in model.named_parameters():\n",
    "    total_params += param.numel()\n",
    "    if param.requires_grad:\n",
    "        trainable_params += param.numel()\n",
    "        \n",
    "print(f\"Total parameters: {total_params}\")\n",
    "print(f\"Trainable parameters: {trainable_params}\")\n",
    "print(f\"Percentage of trainable parameters: {trainable_params/total_params:.2%}\")"
   ]
  },
  {
   "cell_type": "code",
   "execution_count": 26,
   "id": "7f5ad5d3-3510-4d08-b8fb-d27d5453c958",
   "metadata": {},
   "outputs": [
    {
     "name": "stderr",
     "output_type": "stream",
     "text": [
      "/home/tsam/anaconda3/envs/unsloth_env/lib/python3.10/site-packages/transformers/training_args.py:1611: FutureWarning: `evaluation_strategy` is deprecated and will be removed in version 4.46 of 🤗 Transformers. Use `eval_strategy` instead\n",
      "  warnings.warn(\n"
     ]
    }
   ],
   "source": [
    "# Setup training arguments\n",
    "training_args = TrainingArguments(\n",
    "    output_dir=\"./results/gpt2-reward-model-frozen\",\n",
    "    evaluation_strategy=\"epoch\",\n",
    "    save_strategy=\"epoch\",\n",
    "    learning_rate=5e-4,  # Higher learning rate since we're only training the head\n",
    "    per_device_train_batch_size=16,  # Can be higher with frozen GPT-2\n",
    "    per_device_eval_batch_size=16,\n",
    "    num_train_epochs=5,  # Adjust based on your needs\n",
    "    weight_decay=0.01,\n",
    "    load_best_model_at_end=True,\n",
    "    greater_is_better=False,\n",
    "    push_to_hub=False,\n",
    "    disable_tqdm=False,\n",
    "    report_to=\"none\",\n",
    "    logging_dir=\"./logs\",\n",
    "    logging_steps=10,\n",
    "    logging_first_step=True,\n",
    ")\n",
    "# Create a compute_metrics function for evaluation\n",
    "def compute_metrics(eval_pred):\n",
    "    predictions, labels = eval_pred\n",
    "    mse = ((predictions - labels) ** 2).mean().item()\n",
    "    return {\"mse\": mse}\n",
    "# Set up the trainer\n",
    "trainer = Trainer(\n",
    "    model=model,\n",
    "    args=training_args,\n",
    "    train_dataset=processed_train,\n",
    "    eval_dataset=processed_eval,\n",
    "    compute_metrics=compute_metrics,\n",
    ")"
   ]
  },
  {
   "cell_type": "code",
   "execution_count": 27,
   "id": "dd94a22e-1868-451e-a040-8432bb712f8e",
   "metadata": {},
   "outputs": [
    {
     "name": "stdout",
     "output_type": "stream",
     "text": [
      "Starting model training...\n"
     ]
    },
    {
     "data": {
      "text/html": [
       "\n",
       "    <div>\n",
       "      \n",
       "      <progress value='12500' max='12500' style='width:300px; height:20px; vertical-align: middle;'></progress>\n",
       "      [12500/12500 1:26:01, Epoch 5/5]\n",
       "    </div>\n",
       "    <table border=\"1\" class=\"dataframe\">\n",
       "  <thead>\n",
       " <tr style=\"text-align: left;\">\n",
       "      <th>Epoch</th>\n",
       "      <th>Training Loss</th>\n",
       "      <th>Validation Loss</th>\n",
       "      <th>Mse</th>\n",
       "    </tr>\n",
       "  </thead>\n",
       "  <tbody>\n",
       "    <tr>\n",
       "      <td>1</td>\n",
       "      <td>0.061400</td>\n",
       "      <td>0.063836</td>\n",
       "      <td>0.063836</td>\n",
       "    </tr>\n",
       "    <tr>\n",
       "      <td>2</td>\n",
       "      <td>0.057100</td>\n",
       "      <td>0.057860</td>\n",
       "      <td>0.057860</td>\n",
       "    </tr>\n",
       "    <tr>\n",
       "      <td>3</td>\n",
       "      <td>0.061200</td>\n",
       "      <td>0.058962</td>\n",
       "      <td>0.058962</td>\n",
       "    </tr>\n",
       "    <tr>\n",
       "      <td>4</td>\n",
       "      <td>0.057600</td>\n",
       "      <td>0.057136</td>\n",
       "      <td>0.057136</td>\n",
       "    </tr>\n",
       "    <tr>\n",
       "      <td>5</td>\n",
       "      <td>0.057500</td>\n",
       "      <td>0.057155</td>\n",
       "      <td>0.057155</td>\n",
       "    </tr>\n",
       "  </tbody>\n",
       "</table><p>"
      ],
      "text/plain": [
       "<IPython.core.display.HTML object>"
      ]
     },
     "metadata": {},
     "output_type": "display_data"
    },
    {
     "data": {
      "text/plain": [
       "TrainOutput(global_step=12500, training_loss=0.05938028842329979, metrics={'train_runtime': 5161.7889, 'train_samples_per_second': 38.746, 'train_steps_per_second': 2.422, 'total_flos': 5.25811587072e+16, 'train_loss': 0.05938028842329979, 'epoch': 5.0})"
      ]
     },
     "execution_count": 27,
     "metadata": {},
     "output_type": "execute_result"
    }
   ],
   "source": [
    "# Train the model\n",
    "print(\"Starting model training...\")\n",
    "trainer.train()"
   ]
  },
  {
   "cell_type": "code",
   "execution_count": 28,
   "id": "3dcad9b7-fbf2-4c4c-b3b0-265f11ee3f8d",
   "metadata": {},
   "outputs": [
    {
     "name": "stdout",
     "output_type": "stream",
     "text": [
      "Model saved to ./gpt2-reward-model-frozen\n"
     ]
    }
   ],
   "source": [
    "# Save the model\n",
    "model_save_path = \"./gpt2-reward-model-frozen\"\n",
    "model.save_pretrained(model_save_path)\n",
    "tokenizer.save_pretrained(model_save_path)\n",
    "print(f\"Model saved to {model_save_path}\")"
   ]
  },
  {
   "cell_type": "code",
   "execution_count": 29,
   "id": "35be0564-1a7e-47c7-952e-f8dcb64351e6",
   "metadata": {},
   "outputs": [
    {
     "name": "stderr",
     "output_type": "stream",
     "text": [
      "Getting predictions: 100%|████████████████████████████████████████████████████████████| 200/200 [00:05<00:00, 37.79it/s]\n"
     ]
    },
    {
     "data": {
      "image/png": "[encoded data removed]",
      "text/plain": [
       "<Figure size 1000x600 with 1 Axes>"
      ]
     },
     "metadata": {},
     "output_type": "display_data"
    },
    {
     "name": "stdout",
     "output_type": "stream",
     "text": [
      "Mean Squared Error: 0.0577\n",
      "Mean Absolute Error: 0.2217\n",
      "R² Score: 0.0321\n"
     ]
    }
   ],
   "source": [
    "# Load the best model\n",
    "model = GPT2ForRegression.from_pretrained(model_save_path)\n",
    "model.to(device)\n",
    "\n",
    "# Sample data from eval set for visualization\n",
    "num_samples = 200  # Adjust based on your computational resources\n",
    "sampled_df = eval_df.sample(min(num_samples, len(eval_df)))\n",
    "actual_rewards = sampled_df['reward'].tolist()\n",
    "predicted_rewards = []\n",
    "\n",
    "# Get predictions\n",
    "for i, row in tqdm(sampled_df.iterrows(), total=len(sampled_df), desc=\"Getting predictions\"):\n",
    "    question = row['question']\n",
    "    answer = row['answer']\n",
    "    pred_reward = predict_reward(question, answer, model, tokenizer, device)\n",
    "    predicted_rewards.append(pred_reward)\n",
    "\n",
    "# Calculate metrics\n",
    "mse = mean_squared_error(actual_rewards, predicted_rewards)\n",
    "mae = mean_absolute_error(actual_rewards, predicted_rewards)\n",
    "r2 = r2_score(actual_rewards, predicted_rewards)\n",
    "\n",
    "# Plot predicted vs. actual rewards\n",
    "plt.figure(figsize=(10, 6))\n",
    "plt.scatter(actual_rewards, predicted_rewards, alpha=0.7)\n",
    "plt.plot([min(actual_rewards), max(actual_rewards)], \n",
    "         [min(actual_rewards), max(actual_rewards)], 'r--')\n",
    "plt.xlabel('Actual Rewards')\n",
    "plt.ylabel('Predicted Rewards')\n",
    "plt.title('Predicted vs. Actual Rewards')\n",
    "plt.grid(True)\n",
    "plt.show()\n",
    "\n",
    "print(f\"Mean Squared Error: {mse:.4f}\")\n",
    "print(f\"Mean Absolute Error: {mae:.4f}\")\n",
    "print(f\"R² Score: {r2:.4f}\")"
   ]
  },
  {
   "cell_type": "code",
   "execution_count": 30,
   "id": "62c17e09-8f39-48dc-be71-b689dec6423d",
   "metadata": {},
   "outputs": [
    {
     "name": "stdout",
     "output_type": "stream",
     "text": [
      "Question: What is the capital of France?\n",
      "Answer: Paris is the capital of France.\n",
      "Predicted reward: 0.5223\n",
      "\n",
      "Question: How does photosynthesis work?\n",
      "Answer: Photosynthesis is the process where plants convert sunlight, water and carbon dioxide into oxygen and glucose.\n",
      "Predicted reward: 0.5282\n",
      "\n",
      "Question: What is the meaning of life?\n",
      "Answer: The meaning of life is a philosophical question that has been debated for centuries.\n",
      "Predicted reward: 0.4847\n",
      "\n"
     ]
    }
   ],
   "source": [
    "# Try with some sample questions and answers\n",
    "sample_questions = [\n",
    "    \"What is the capital of France?\",\n",
    "    \"How does photosynthesis work?\",\n",
    "    \"What is the meaning of life?\"\n",
    "]\n",
    "\n",
    "sample_answers = [\n",
    "    \"Paris is the capital of France.\",\n",
    "    \"Photosynthesis is the process where plants convert sunlight, water and carbon dioxide into oxygen and glucose.\",\n",
    "    \"The meaning of life is a philosophical question that has been debated for centuries.\"\n",
    "]\n",
    "\n",
    "# Make predictions\n",
    "for q, a in zip(sample_questions, sample_answers):\n",
    "    reward = predict_reward(q, a, model, tokenizer)\n",
    "    print(f\"Question: {q}\")\n",
    "    print(f\"Answer: {a}\")\n",
    "    print(f\"Predicted reward: {reward:.4f}\\n\")"
   ]
  },
  {
   "cell_type": "code",
   "execution_count": 31,
   "id": "ae55ffea-46a2-4df0-8554-d42f4c2b6edc",
   "metadata": {},
   "outputs": [
    {
     "data": {
      "image/png": "[encoded data removed]",
      "text/plain": [
       "<Figure size 1000x800 with 1 Axes>"
      ]
     },
     "metadata": {},
     "output_type": "display_data"
    }
   ],
   "source": [
    "# Function to get and visualize embeddings from the model\n",
    "def get_embeddings(texts, model, tokenizer, device=None):\n",
    "    \"\"\"Get embeddings from the GPT-2 model for visualization\"\"\"\n",
    "    if device is None:\n",
    "        device = torch.device(\"cuda\" if torch.cuda.is_available() else \"cpu\")\n",
    "    \n",
    "    model.to(device)\n",
    "    model.eval()\n",
    "    \n",
    "    embeddings = []\n",
    "    \n",
    "    for text in texts:\n",
    "        # Tokenize input\n",
    "        encoded_input = tokenizer(\n",
    "            text,\n",
    "            return_tensors=\"pt\",\n",
    "            padding=\"max_length\",\n",
    "            truncation=True,\n",
    "            max_length=512\n",
    "        )\n",
    "        \n",
    "        # Move inputs to device\n",
    "        encoded_input = {k: v.to(device) for k, v in encoded_input.items()}\n",
    "        \n",
    "        # Get the embedding\n",
    "        with torch.no_grad():\n",
    "            outputs = model.gpt2(**encoded_input)\n",
    "            last_hidden_state = outputs.last_hidden_state\n",
    "            \n",
    "            # Get the last token embedding\n",
    "            last_token_id = encoded_input['attention_mask'].sum(dim=1) - 1\n",
    "            last_token_id = last_token_id.unsqueeze(-1).unsqueeze(-1).repeat(1, 1, last_hidden_state.size(-1))\n",
    "            last_token_embedding = torch.gather(last_hidden_state, 1, last_token_id).squeeze(1)\n",
    "            \n",
    "            embeddings.append(last_token_embedding.cpu().numpy())\n",
    "    \n",
    "    return np.vstack(embeddings)\n",
    "\n",
    "# Try visualizing embeddings with PCA or t-SNE if desired\n",
    "from sklearn.decomposition import PCA\n",
    "from sklearn.manifold import TSNE\n",
    "\n",
    "# Generate some example texts\n",
    "example_texts = [\n",
    "    \"Question: What is 2+2? Answer: 4\",\n",
    "    \"Question: What is the capital of France? Answer: Paris\",\n",
    "    \"Question: Explain quantum physics. Answer: It's complicated\",\n",
    "    \"Question: Who wrote Hamlet? Answer: Shakespeare\",\n",
    "    \"Question: What is machine learning? Answer: A field of AI\"\n",
    "]\n",
    "\n",
    "# Get embeddings\n",
    "embeddings = get_embeddings(example_texts, model, tokenizer)\n",
    "\n",
    "# Apply PCA\n",
    "pca = PCA(n_components=2)\n",
    "embeddings_2d = pca.fit_transform(embeddings)\n",
    "\n",
    "# Plot\n",
    "plt.figure(figsize=(10, 8))\n",
    "plt.scatter(embeddings_2d[:, 0], embeddings_2d[:, 1])\n",
    "for i, text in enumerate(example_texts):\n",
    "    plt.annotate(text[:20] + \"...\", (embeddings_2d[i, 0], embeddings_2d[i, 1]))\n",
    "plt.title('PCA of GPT-2 Embeddings')\n",
    "plt.xlabel('PC1')\n",
    "plt.ylabel('PC2')\n",
    "plt.grid(True)\n",
    "plt.show()"
   ]
  },
  {
   "cell_type": "code",
   "execution_count": null,
   "id": "e8e6bd53-bfcf-4b07-9c97-f2615b80b111",
   "metadata": {},
   "outputs": [],
   "source": []
  }
 ],
 "metadata": {
  "kernelspec": {
   "display_name": "Python 3 (ipykernel)",
   "language": "python",
   "name": "python3"
  },
  "language_info": {
   "codemirror_mode": {
    "name": "ipython",
    "version": 3
   },
   "file_extension": ".py",
   "mimetype": "text/x-python",
   "name": "python",
   "nbconvert_exporter": "python",
   "pygments_lexer": "ipython3",
   "version": "3.10.16"
  }
 },
 "nbformat": 4,
 "nbformat_minor": 5
}
